{
 "cells": [
  {
   "cell_type": "markdown",
   "id": "6ba761f4-9b52-4b62-9dee-503d31606359",
   "metadata": {},
   "source": [
    "### 1️⃣ Load & Explore the Data"
   ]
  },
  {
   "cell_type": "code",
   "execution_count": 174,
   "id": "d0126b3d-7aad-40c8-815c-34dd07438586",
   "metadata": {},
   "outputs": [
    {
     "name": "stderr",
     "output_type": "stream",
     "text": [
      "C:\\Users\\user\\AppData\\Local\\Temp\\ipykernel_10472\\590039501.py:4: DtypeWarning: Columns (3) have mixed types. Specify dtype option on import or set low_memory=False.\n",
      "  df = pd.read_csv(\"cleaned_merged_seasons_team_aggregated.csv\")\n"
     ]
    },
    {
     "name": "stdout",
     "output_type": "stream",
     "text": [
      "  season_x                name position team_x  assists  bonus  bps  \\\n",
      "0  2016-17     Aaron Cresswell      DEF    NaN        0      0    0   \n",
      "1  2016-17        Aaron Lennon      MID    NaN        0      0    6   \n",
      "2  2016-17        Aaron Ramsey      MID    NaN        0      0    5   \n",
      "3  2016-17  Abdoulaye Doucouré      MID    NaN        0      0    0   \n",
      "4  2016-17   Abdul Rahman Baba      DEF    NaN        0      0    0   \n",
      "\n",
      "   clean_sheets  creativity  element  ...  transfers_in  transfers_out  value  \\\n",
      "0             0         0.0      454  ...             0              0     55   \n",
      "1             0         0.3      142  ...             0              0     60   \n",
      "2             0         4.9       16  ...             0              0     80   \n",
      "3             0         0.0      482  ...             0              0     50   \n",
      "4             0         0.0       80  ...             0              0     55   \n",
      "\n",
      "   was_home  yellow_cards GW  points  team_goals_scored team_goals_conceded  \\\n",
      "0     False             0  1     NaN                NaN                 NaN   \n",
      "1      True             0  1     NaN                NaN                 NaN   \n",
      "2      True             0  1     NaN                NaN                 NaN   \n",
      "3     False             0  1     NaN                NaN                 NaN   \n",
      "4      True             0  1     NaN                NaN                 NaN   \n",
      "\n",
      "   team_goals_diff  \n",
      "0              NaN  \n",
      "1              NaN  \n",
      "2              NaN  \n",
      "3              NaN  \n",
      "4              NaN  \n",
      "\n",
      "[5 rows x 41 columns]\n",
      "Index(['season_x', 'name', 'position', 'team_x', 'assists', 'bonus', 'bps',\n",
      "       'clean_sheets', 'creativity', 'element', 'fixture', 'goals_conceded',\n",
      "       'goals_scored', 'ict_index', 'influence', 'kickoff_time', 'minutes',\n",
      "       'opponent_team', 'opp_team_name', 'own_goals', 'penalties_missed',\n",
      "       'penalties_saved', 'red_cards', 'round', 'saves', 'selected',\n",
      "       'team_a_score', 'team_h_score', 'threat', 'total_points',\n",
      "       'transfers_balance', 'transfers_in', 'transfers_out', 'value',\n",
      "       'was_home', 'yellow_cards', 'GW', 'points', 'team_goals_scored',\n",
      "       'team_goals_conceded', 'team_goals_diff'],\n",
      "      dtype='object')\n",
      "<class 'pandas.core.frame.DataFrame'>\n",
      "RangeIndex: 126076 entries, 0 to 126075\n",
      "Data columns (total 41 columns):\n",
      " #   Column               Non-Null Count   Dtype  \n",
      "---  ------               --------------   -----  \n",
      " 0   season_x             126076 non-null  object \n",
      " 1   name                 126076 non-null  object \n",
      " 2   position             126076 non-null  object \n",
      " 3   team_x               106042 non-null  object \n",
      " 4   assists              126076 non-null  int64  \n",
      " 5   bonus                126076 non-null  int64  \n",
      " 6   bps                  126076 non-null  int64  \n",
      " 7   clean_sheets         126076 non-null  int64  \n",
      " 8   creativity           126076 non-null  float64\n",
      " 9   element              126076 non-null  int64  \n",
      " 10  fixture              126076 non-null  int64  \n",
      " 11  goals_conceded       126076 non-null  int64  \n",
      " 12  goals_scored         126076 non-null  int64  \n",
      " 13  ict_index            126076 non-null  float64\n",
      " 14  influence            126076 non-null  float64\n",
      " 15  kickoff_time         126076 non-null  object \n",
      " 16  minutes              126076 non-null  int64  \n",
      " 17  opponent_team        126076 non-null  int64  \n",
      " 18  opp_team_name        126076 non-null  object \n",
      " 19  own_goals            126076 non-null  int64  \n",
      " 20  penalties_missed     126076 non-null  int64  \n",
      " 21  penalties_saved      126076 non-null  int64  \n",
      " 22  red_cards            126076 non-null  int64  \n",
      " 23  round                126076 non-null  int64  \n",
      " 24  saves                126076 non-null  int64  \n",
      " 25  selected             126076 non-null  int64  \n",
      " 26  team_a_score         126076 non-null  float64\n",
      " 27  team_h_score         126076 non-null  float64\n",
      " 28  threat               126076 non-null  float64\n",
      " 29  total_points         126076 non-null  int64  \n",
      " 30  transfers_balance    126076 non-null  int64  \n",
      " 31  transfers_in         126076 non-null  int64  \n",
      " 32  transfers_out        126076 non-null  int64  \n",
      " 33  value                126076 non-null  int64  \n",
      " 34  was_home             126076 non-null  bool   \n",
      " 35  yellow_cards         126076 non-null  int64  \n",
      " 36  GW                   126076 non-null  int64  \n",
      " 37  points               106042 non-null  float64\n",
      " 38  team_goals_scored    106042 non-null  float64\n",
      " 39  team_goals_conceded  106042 non-null  float64\n",
      " 40  team_goals_diff      106042 non-null  float64\n",
      "dtypes: bool(1), float64(10), int64(24), object(6)\n",
      "memory usage: 38.6+ MB\n",
      "None\n",
      "             assists          bonus            bps   clean_sheets  \\\n",
      "count  126076.000000  126076.000000  126076.000000  126076.000000   \n",
      "mean        0.039801       0.102216       5.741172       0.096513   \n",
      "std         0.212821       0.477914       9.657314       0.295295   \n",
      "min         0.000000       0.000000     -21.000000       0.000000   \n",
      "25%         0.000000       0.000000       0.000000       0.000000   \n",
      "50%         0.000000       0.000000       0.000000       0.000000   \n",
      "75%         0.000000       0.000000       9.000000       0.000000   \n",
      "max         4.000000       3.000000     128.000000       1.000000   \n",
      "\n",
      "          creativity        element        fixture  goals_conceded  \\\n",
      "count  126076.000000  126076.000000  126076.000000   126076.000000   \n",
      "mean        4.570277     343.041070     198.537945        0.486976   \n",
      "std        10.630072     205.310744     108.933461        0.970930   \n",
      "min         0.000000       1.000000       1.000000        0.000000   \n",
      "25%         0.000000     167.000000     105.000000        0.000000   \n",
      "50%         0.000000     334.000000     203.000000        0.000000   \n",
      "75%         2.100000     508.000000     293.000000        1.000000   \n",
      "max       170.900000     866.000000     380.000000        9.000000   \n",
      "\n",
      "        goals_scored      ict_index  ...  transfers_balance  transfers_in  \\\n",
      "count  126076.000000  126076.000000  ...       1.260760e+05  1.260760e+05   \n",
      "mean        0.044203       1.635007  ...       1.540375e+03  1.433847e+04   \n",
      "std         0.230470       2.986089  ...       6.840564e+04  5.829435e+04   \n",
      "min         0.000000       0.000000  ...      -2.693401e+06  0.000000e+00   \n",
      "25%         0.000000       0.000000  ...      -1.169000e+03  3.400000e+01   \n",
      "50%         0.000000       0.000000  ...      -5.000000e+01  3.360000e+02   \n",
      "75%         0.000000       2.300000  ...       5.200000e+01  4.301000e+03   \n",
      "max         4.000000      32.800000  ...       1.983733e+06  2.104464e+06   \n",
      "\n",
      "       transfers_out          value   yellow_cards             GW  \\\n",
      "count   1.260760e+05  126076.000000  126076.000000  126076.000000   \n",
      "mean    1.279763e+04      50.605111       0.053198      20.718178   \n",
      "std     5.060952e+04      12.178766       0.224429      10.966570   \n",
      "min     0.000000e+00      36.000000       0.000000       1.000000   \n",
      "25%     1.020000e+02      44.000000       0.000000      11.000000   \n",
      "50%     8.860000e+02      47.000000       0.000000      22.000000   \n",
      "75%     6.764000e+03      54.000000       0.000000      30.000000   \n",
      "max     2.747279e+06     145.000000       1.000000      38.000000   \n",
      "\n",
      "              points  team_goals_scored  team_goals_conceded  team_goals_diff  \n",
      "count  106042.000000      106042.000000        106042.000000    106042.000000  \n",
      "mean       27.018474          28.336640            28.815630        -0.478989  \n",
      "std        17.690998          18.199233            17.365722        16.914494  \n",
      "min         0.000000           0.000000             0.000000       -67.000000  \n",
      "25%        13.000000          14.000000            15.000000       -10.000000  \n",
      "50%        25.000000          26.000000            28.000000        -2.000000  \n",
      "75%        39.000000          40.000000            41.000000         8.000000  \n",
      "max        90.000000          94.000000           100.000000        69.000000  \n",
      "\n",
      "[8 rows x 34 columns]\n"
     ]
    }
   ],
   "source": [
    "import pandas as pd\n",
    "\n",
    "# Load your csv\n",
    "df = pd.read_csv(\"cleaned_merged_seasons_team_aggregated.csv\")\n",
    "\n",
    "# Quick look at the data\n",
    "print(df.head())\n",
    "print(df.columns)\n",
    "print(df.info())\n",
    "print(df.describe())"
   ]
  },
  {
   "cell_type": "markdown",
   "id": "a4d914ba-b492-4e0c-8e92-6a85f7d07ab7",
   "metadata": {},
   "source": [
    "### 2️⃣ Data Cleaning\n",
    "- Fill missing numeric values with 0 or median.\n",
    "\n",
    "- Drop or fix rows with missing position or team_x.\n",
    "\n",
    "- Ensure value is numeric and consistent (in millions).\n",
    "\n",
    "- Convert categorical columns (position, team_x, opp_team_name) to one-hot encoding or numeric labels if needed.\n"
   ]
  },
  {
   "cell_type": "markdown",
   "id": "95734a91-7f7d-46ae-9054-9b50273a7c42",
   "metadata": {},
   "source": [
    "### Fill / Drop strategy\n",
    "\n",
    "- Numeric stats (points, team_goals_*): fill with 0 or median\n",
    "\n",
    "- Categorical (team_x): fill missing teams by looking up the same player in other rows."
   ]
  },
  {
   "cell_type": "code",
   "execution_count": 175,
   "id": "0b392ee2-dbdc-47a7-9ba4-e971a74dd48a",
   "metadata": {},
   "outputs": [
    {
     "data": {
      "text/plain": [
       "season_x                   0\n",
       "name                       0\n",
       "position                   0\n",
       "team_x                 20034\n",
       "assists                    0\n",
       "bonus                      0\n",
       "bps                        0\n",
       "clean_sheets               0\n",
       "creativity                 0\n",
       "element                    0\n",
       "fixture                    0\n",
       "goals_conceded             0\n",
       "goals_scored               0\n",
       "ict_index                  0\n",
       "influence                  0\n",
       "kickoff_time               0\n",
       "minutes                    0\n",
       "opponent_team              0\n",
       "opp_team_name              0\n",
       "own_goals                  0\n",
       "penalties_missed           0\n",
       "penalties_saved            0\n",
       "red_cards                  0\n",
       "round                      0\n",
       "saves                      0\n",
       "selected                   0\n",
       "team_a_score               0\n",
       "team_h_score               0\n",
       "threat                     0\n",
       "total_points               0\n",
       "transfers_balance          0\n",
       "transfers_in               0\n",
       "transfers_out              0\n",
       "value                      0\n",
       "was_home                   0\n",
       "yellow_cards               0\n",
       "GW                         0\n",
       "points                 20034\n",
       "team_goals_scored      20034\n",
       "team_goals_conceded    20034\n",
       "team_goals_diff        20034\n",
       "dtype: int64"
      ]
     },
     "execution_count": 175,
     "metadata": {},
     "output_type": "execute_result"
    }
   ],
   "source": [
    "df.isna().sum()"
   ]
  },
  {
   "cell_type": "code",
   "execution_count": 176,
   "id": "3622b9ff-59fd-4e23-9b26-d9883663b279",
   "metadata": {},
   "outputs": [],
   "source": [
    "# Fill numeric missing values with 0\n",
    "\n",
    "df[\"points\"] = df[\"points\"].fillna(0)\n",
    "df[\"team_goals_scored\"] = df[\"team_goals_scored\"].fillna(0)\n",
    "df[\"team_goals_conceded\"] = df[\"team_goals_conceded\"].fillna(0)\n",
    "df[\"team_goals_diff\"] = df[\"team_goals_diff\"].fillna(0)\n",
    "\n",
    "# value is in tenths of millions\n",
    "df[\"value\"] = df[\"value\"] / 10\n",
    "\n",
    "# Create a dictionary mapping player name → most common team\n",
    "# .mode() gives the most frequent value in that Series.\n",
    "# If there’s a tie, it can return multiple values (a Series).\n",
    "# x is a Series of all team_x values for one player. \n",
    "player_team_map = df.groupby(\"name\")[\"team_x\"].agg(lambda x : x.mode().iloc[0]\n",
    "                                    if not x.mode().empty else None).to_dict()\n",
    "\n",
    "# Fill missing team_x values using this mapping\n",
    "df[\"team_x\"] = df.apply(\n",
    "    lambda row: player_team_map[row['name']] if pd.isna(row['team_x']) else row['team_x'],axis=1)\n"
   ]
  },
  {
   "cell_type": "code",
   "execution_count": 177,
   "id": "1458b803-d89e-4fe5-93d4-48da94b93898",
   "metadata": {},
   "outputs": [
    {
     "data": {
      "text/plain": [
       "season_x               0\n",
       "name                   0\n",
       "position               0\n",
       "team_x                 0\n",
       "assists                0\n",
       "bonus                  0\n",
       "bps                    0\n",
       "clean_sheets           0\n",
       "creativity             0\n",
       "element                0\n",
       "fixture                0\n",
       "goals_conceded         0\n",
       "goals_scored           0\n",
       "ict_index              0\n",
       "influence              0\n",
       "kickoff_time           0\n",
       "minutes                0\n",
       "opponent_team          0\n",
       "opp_team_name          0\n",
       "own_goals              0\n",
       "penalties_missed       0\n",
       "penalties_saved        0\n",
       "red_cards              0\n",
       "round                  0\n",
       "saves                  0\n",
       "selected               0\n",
       "team_a_score           0\n",
       "team_h_score           0\n",
       "threat                 0\n",
       "total_points           0\n",
       "transfers_balance      0\n",
       "transfers_in           0\n",
       "transfers_out          0\n",
       "value                  0\n",
       "was_home               0\n",
       "yellow_cards           0\n",
       "GW                     0\n",
       "points                 0\n",
       "team_goals_scored      0\n",
       "team_goals_conceded    0\n",
       "team_goals_diff        0\n",
       "dtype: int64"
      ]
     },
     "execution_count": 177,
     "metadata": {},
     "output_type": "execute_result"
    }
   ],
   "source": [
    "df.isna().sum()"
   ]
  },
  {
   "cell_type": "markdown",
   "id": "e9f215c3-1c72-4833-8cc6-564a72bb8d99",
   "metadata": {},
   "source": [
    "### 3️⃣ Encode Categorical Columns\n",
    "position, team_x, opp_team_name → one-hot or label encoding"
   ]
  },
  {
   "cell_type": "code",
   "execution_count": 178,
   "id": "d40f6602-9399-4857-a454-d14b8f280e01",
   "metadata": {},
   "outputs": [],
   "source": [
    "df['position']=df['position'].replace('GKP','GK')"
   ]
  },
  {
   "cell_type": "code",
   "execution_count": 179,
   "id": "12bd9f48-b3eb-462c-88d2-ec42f81b4092",
   "metadata": {},
   "outputs": [],
   "source": [
    "# One-hot encode positions\n",
    "df = pd.get_dummies(df , columns=['position'], prefix='pos')\n",
    "\n",
    "# Optionally one-hot encode team names\n",
    "df = pd.get_dummies(df,columns=['team_x','opp_team_name'],prefix=['team','opp'])"
   ]
  },
  {
   "cell_type": "code",
   "execution_count": 180,
   "id": "4ac61cc8-191a-4247-8a14-80f559af32e9",
   "metadata": {},
   "outputs": [
    {
     "data": {
      "text/plain": [
       "14095"
      ]
     },
     "execution_count": 180,
     "metadata": {},
     "output_type": "execute_result"
    }
   ],
   "source": [
    "df['pos_GK'].sum()"
   ]
  },
  {
   "cell_type": "code",
   "execution_count": 182,
   "id": "4b5f22db-d60b-43f4-8f63-8f014f727220",
   "metadata": {},
   "outputs": [
    {
     "data": {
      "text/html": [
       "<div>\n",
       "<style scoped>\n",
       "    .dataframe tbody tr th:only-of-type {\n",
       "        vertical-align: middle;\n",
       "    }\n",
       "\n",
       "    .dataframe tbody tr th {\n",
       "        vertical-align: top;\n",
       "    }\n",
       "\n",
       "    .dataframe thead th {\n",
       "        text-align: right;\n",
       "    }\n",
       "</style>\n",
       "<table border=\"1\" class=\"dataframe\">\n",
       "  <thead>\n",
       "    <tr style=\"text-align: right;\">\n",
       "      <th></th>\n",
       "      <th>season_x</th>\n",
       "      <th>name</th>\n",
       "      <th>assists</th>\n",
       "      <th>bonus</th>\n",
       "      <th>bps</th>\n",
       "      <th>clean_sheets</th>\n",
       "      <th>creativity</th>\n",
       "      <th>element</th>\n",
       "      <th>fixture</th>\n",
       "      <th>goals_conceded</th>\n",
       "      <th>...</th>\n",
       "      <th>opp_Sheffield Utd</th>\n",
       "      <th>opp_Southampton</th>\n",
       "      <th>opp_Spurs</th>\n",
       "      <th>opp_Stoke</th>\n",
       "      <th>opp_Sunderland</th>\n",
       "      <th>opp_Swansea</th>\n",
       "      <th>opp_Watford</th>\n",
       "      <th>opp_West Brom</th>\n",
       "      <th>opp_West Ham</th>\n",
       "      <th>opp_Wolves</th>\n",
       "    </tr>\n",
       "  </thead>\n",
       "  <tbody>\n",
       "    <tr>\n",
       "      <th>0</th>\n",
       "      <td>2016-17</td>\n",
       "      <td>Aaron Cresswell</td>\n",
       "      <td>0</td>\n",
       "      <td>0</td>\n",
       "      <td>0</td>\n",
       "      <td>0</td>\n",
       "      <td>0.0</td>\n",
       "      <td>454</td>\n",
       "      <td>10</td>\n",
       "      <td>0</td>\n",
       "      <td>...</td>\n",
       "      <td>False</td>\n",
       "      <td>False</td>\n",
       "      <td>False</td>\n",
       "      <td>False</td>\n",
       "      <td>False</td>\n",
       "      <td>False</td>\n",
       "      <td>False</td>\n",
       "      <td>False</td>\n",
       "      <td>False</td>\n",
       "      <td>False</td>\n",
       "    </tr>\n",
       "    <tr>\n",
       "      <th>1</th>\n",
       "      <td>2016-17</td>\n",
       "      <td>Aaron Lennon</td>\n",
       "      <td>0</td>\n",
       "      <td>0</td>\n",
       "      <td>6</td>\n",
       "      <td>0</td>\n",
       "      <td>0.3</td>\n",
       "      <td>142</td>\n",
       "      <td>3</td>\n",
       "      <td>0</td>\n",
       "      <td>...</td>\n",
       "      <td>False</td>\n",
       "      <td>False</td>\n",
       "      <td>True</td>\n",
       "      <td>False</td>\n",
       "      <td>False</td>\n",
       "      <td>False</td>\n",
       "      <td>False</td>\n",
       "      <td>False</td>\n",
       "      <td>False</td>\n",
       "      <td>False</td>\n",
       "    </tr>\n",
       "    <tr>\n",
       "      <th>2</th>\n",
       "      <td>2016-17</td>\n",
       "      <td>Aaron Ramsey</td>\n",
       "      <td>0</td>\n",
       "      <td>0</td>\n",
       "      <td>5</td>\n",
       "      <td>0</td>\n",
       "      <td>4.9</td>\n",
       "      <td>16</td>\n",
       "      <td>8</td>\n",
       "      <td>3</td>\n",
       "      <td>...</td>\n",
       "      <td>False</td>\n",
       "      <td>False</td>\n",
       "      <td>False</td>\n",
       "      <td>False</td>\n",
       "      <td>False</td>\n",
       "      <td>False</td>\n",
       "      <td>False</td>\n",
       "      <td>False</td>\n",
       "      <td>False</td>\n",
       "      <td>False</td>\n",
       "    </tr>\n",
       "    <tr>\n",
       "      <th>3</th>\n",
       "      <td>2016-17</td>\n",
       "      <td>Abdoulaye Doucouré</td>\n",
       "      <td>0</td>\n",
       "      <td>0</td>\n",
       "      <td>0</td>\n",
       "      <td>0</td>\n",
       "      <td>0.0</td>\n",
       "      <td>482</td>\n",
       "      <td>7</td>\n",
       "      <td>0</td>\n",
       "      <td>...</td>\n",
       "      <td>False</td>\n",
       "      <td>True</td>\n",
       "      <td>False</td>\n",
       "      <td>False</td>\n",
       "      <td>False</td>\n",
       "      <td>False</td>\n",
       "      <td>False</td>\n",
       "      <td>False</td>\n",
       "      <td>False</td>\n",
       "      <td>False</td>\n",
       "    </tr>\n",
       "    <tr>\n",
       "      <th>4</th>\n",
       "      <td>2016-17</td>\n",
       "      <td>Abdul Rahman Baba</td>\n",
       "      <td>0</td>\n",
       "      <td>0</td>\n",
       "      <td>0</td>\n",
       "      <td>0</td>\n",
       "      <td>0.0</td>\n",
       "      <td>80</td>\n",
       "      <td>10</td>\n",
       "      <td>0</td>\n",
       "      <td>...</td>\n",
       "      <td>False</td>\n",
       "      <td>False</td>\n",
       "      <td>False</td>\n",
       "      <td>False</td>\n",
       "      <td>False</td>\n",
       "      <td>False</td>\n",
       "      <td>False</td>\n",
       "      <td>False</td>\n",
       "      <td>True</td>\n",
       "      <td>False</td>\n",
       "    </tr>\n",
       "  </tbody>\n",
       "</table>\n",
       "<p>5 rows × 100 columns</p>\n",
       "</div>"
      ],
      "text/plain": [
       "  season_x                name  assists  bonus  bps  clean_sheets  creativity  \\\n",
       "0  2016-17     Aaron Cresswell        0      0    0             0         0.0   \n",
       "1  2016-17        Aaron Lennon        0      0    6             0         0.3   \n",
       "2  2016-17        Aaron Ramsey        0      0    5             0         4.9   \n",
       "3  2016-17  Abdoulaye Doucouré        0      0    0             0         0.0   \n",
       "4  2016-17   Abdul Rahman Baba        0      0    0             0         0.0   \n",
       "\n",
       "   element  fixture  goals_conceded  ...  opp_Sheffield Utd  opp_Southampton  \\\n",
       "0      454       10               0  ...              False            False   \n",
       "1      142        3               0  ...              False            False   \n",
       "2       16        8               3  ...              False            False   \n",
       "3      482        7               0  ...              False             True   \n",
       "4       80       10               0  ...              False            False   \n",
       "\n",
       "   opp_Spurs opp_Stoke  opp_Sunderland  opp_Swansea  opp_Watford  \\\n",
       "0      False     False           False        False        False   \n",
       "1       True     False           False        False        False   \n",
       "2      False     False           False        False        False   \n",
       "3      False     False           False        False        False   \n",
       "4      False     False           False        False        False   \n",
       "\n",
       "   opp_West Brom  opp_West Ham  opp_Wolves  \n",
       "0          False         False       False  \n",
       "1          False         False       False  \n",
       "2          False         False       False  \n",
       "3          False         False       False  \n",
       "4          False          True       False  \n",
       "\n",
       "[5 rows x 100 columns]"
      ]
     },
     "execution_count": 182,
     "metadata": {},
     "output_type": "execute_result"
    }
   ],
   "source": [
    "df.head()"
   ]
  },
  {
   "cell_type": "markdown",
   "id": "b88479e9-72db-48c0-a8f8-b3d76ef8eb69",
   "metadata": {},
   "source": [
    "### 4️⃣ Convert datetime\n",
    "kickoff_time can be converted if you plan to include recency/fixture timing"
   ]
  },
  {
   "cell_type": "code",
   "execution_count": 183,
   "id": "1a3097fa-519f-40c8-aa25-0b638b518825",
   "metadata": {},
   "outputs": [
    {
     "data": {
      "text/plain": [
       "0    2016-08-15T19:00:00Z\n",
       "1    2016-08-13T14:00:00Z\n",
       "2    2016-08-14T15:00:00Z\n",
       "3    2016-08-13T14:00:00Z\n",
       "4    2016-08-15T19:00:00Z\n",
       "Name: kickoff_time, dtype: object"
      ]
     },
     "execution_count": 183,
     "metadata": {},
     "output_type": "execute_result"
    }
   ],
   "source": [
    "df[\"kickoff_time\"].head()"
   ]
  },
  {
   "cell_type": "code",
   "execution_count": 184,
   "id": "49927153-16ec-464e-9878-3c677dfa7942",
   "metadata": {},
   "outputs": [],
   "source": [
    "df[\"kickoff_time\"] = pd.to_datetime(df[\"kickoff_time\"])"
   ]
  },
  {
   "cell_type": "code",
   "execution_count": 185,
   "id": "5b4f6ca6-c352-4164-84ac-0f1e4e9c9ab5",
   "metadata": {},
   "outputs": [
    {
     "data": {
      "text/plain": [
       "0   2016-08-15 19:00:00+00:00\n",
       "1   2016-08-13 14:00:00+00:00\n",
       "2   2016-08-14 15:00:00+00:00\n",
       "3   2016-08-13 14:00:00+00:00\n",
       "4   2016-08-15 19:00:00+00:00\n",
       "Name: kickoff_time, dtype: datetime64[ns, UTC]"
      ]
     },
     "execution_count": 185,
     "metadata": {},
     "output_type": "execute_result"
    }
   ],
   "source": [
    "df['kickoff_time'].head()"
   ]
  },
  {
   "cell_type": "markdown",
   "id": "5052f776-4951-4608-aac1-fec9a0bd4422",
   "metadata": {},
   "source": [
    "### 5️⃣ Quick Sanity Check"
   ]
  },
  {
   "cell_type": "code",
   "execution_count": 186,
   "id": "62efefe0-a281-45f0-9ef2-8b32b8bfaabb",
   "metadata": {},
   "outputs": [
    {
     "name": "stdout",
     "output_type": "stream",
     "text": [
      "<class 'pandas.core.frame.DataFrame'>\n",
      "RangeIndex: 126076 entries, 0 to 126075\n",
      "Data columns (total 100 columns):\n",
      " #   Column               Non-Null Count   Dtype              \n",
      "---  ------               --------------   -----              \n",
      " 0   season_x             126076 non-null  object             \n",
      " 1   name                 126076 non-null  object             \n",
      " 2   assists              126076 non-null  int64              \n",
      " 3   bonus                126076 non-null  int64              \n",
      " 4   bps                  126076 non-null  int64              \n",
      " 5   clean_sheets         126076 non-null  int64              \n",
      " 6   creativity           126076 non-null  float64            \n",
      " 7   element              126076 non-null  int64              \n",
      " 8   fixture              126076 non-null  int64              \n",
      " 9   goals_conceded       126076 non-null  int64              \n",
      " 10  goals_scored         126076 non-null  int64              \n",
      " 11  ict_index            126076 non-null  float64            \n",
      " 12  influence            126076 non-null  float64            \n",
      " 13  kickoff_time         126076 non-null  datetime64[ns, UTC]\n",
      " 14  minutes              126076 non-null  int64              \n",
      " 15  opponent_team        126076 non-null  int64              \n",
      " 16  own_goals            126076 non-null  int64              \n",
      " 17  penalties_missed     126076 non-null  int64              \n",
      " 18  penalties_saved      126076 non-null  int64              \n",
      " 19  red_cards            126076 non-null  int64              \n",
      " 20  round                126076 non-null  int64              \n",
      " 21  saves                126076 non-null  int64              \n",
      " 22  selected             126076 non-null  int64              \n",
      " 23  team_a_score         126076 non-null  float64            \n",
      " 24  team_h_score         126076 non-null  float64            \n",
      " 25  threat               126076 non-null  float64            \n",
      " 26  total_points         126076 non-null  int64              \n",
      " 27  transfers_balance    126076 non-null  int64              \n",
      " 28  transfers_in         126076 non-null  int64              \n",
      " 29  transfers_out        126076 non-null  int64              \n",
      " 30  value                126076 non-null  float64            \n",
      " 31  was_home             126076 non-null  bool               \n",
      " 32  yellow_cards         126076 non-null  int64              \n",
      " 33  GW                   126076 non-null  int64              \n",
      " 34  points               126076 non-null  float64            \n",
      " 35  team_goals_scored    126076 non-null  float64            \n",
      " 36  team_goals_conceded  126076 non-null  float64            \n",
      " 37  team_goals_diff      126076 non-null  float64            \n",
      " 38  pos_DEF              126076 non-null  bool               \n",
      " 39  pos_FWD              126076 non-null  bool               \n",
      " 40  pos_GK               126076 non-null  bool               \n",
      " 41  pos_MID              126076 non-null  bool               \n",
      " 42  team_Arsenal         126076 non-null  bool               \n",
      " 43  team_Aston Villa     126076 non-null  bool               \n",
      " 44  team_Bournemouth     126076 non-null  bool               \n",
      " 45  team_Brentford       126076 non-null  bool               \n",
      " 46  team_Brighton        126076 non-null  bool               \n",
      " 47  team_Burnley         126076 non-null  bool               \n",
      " 48  team_Chelsea         126076 non-null  bool               \n",
      " 49  team_Crystal Palace  126076 non-null  bool               \n",
      " 50  team_Everton         126076 non-null  bool               \n",
      " 51  team_Fulham          126076 non-null  bool               \n",
      " 52  team_Leeds           126076 non-null  bool               \n",
      " 53  team_Leicester       126076 non-null  bool               \n",
      " 54  team_Liverpool       126076 non-null  bool               \n",
      " 55  team_Luton           126076 non-null  bool               \n",
      " 56  team_Man City        126076 non-null  bool               \n",
      " 57  team_Man Utd         126076 non-null  bool               \n",
      " 58  team_Newcastle       126076 non-null  bool               \n",
      " 59  team_Norwich         126076 non-null  bool               \n",
      " 60  team_Nott'm Forest   126076 non-null  bool               \n",
      " 61  team_Sheffield Utd   126076 non-null  bool               \n",
      " 62  team_Southampton     126076 non-null  bool               \n",
      " 63  team_Spurs           126076 non-null  bool               \n",
      " 64  team_Watford         126076 non-null  bool               \n",
      " 65  team_West Brom       126076 non-null  bool               \n",
      " 66  team_West Ham        126076 non-null  bool               \n",
      " 67  team_Wolves          126076 non-null  bool               \n",
      " 68  opp_Arsenal          126076 non-null  bool               \n",
      " 69  opp_Aston Villa      126076 non-null  bool               \n",
      " 70  opp_Bournemouth      126076 non-null  bool               \n",
      " 71  opp_Brentford        126076 non-null  bool               \n",
      " 72  opp_Brighton         126076 non-null  bool               \n",
      " 73  opp_Burnley          126076 non-null  bool               \n",
      " 74  opp_Chelsea          126076 non-null  bool               \n",
      " 75  opp_Crystal Palace   126076 non-null  bool               \n",
      " 76  opp_Everton          126076 non-null  bool               \n",
      " 77  opp_Fulham           126076 non-null  bool               \n",
      " 78  opp_Huddersfield     126076 non-null  bool               \n",
      " 79  opp_Hull             126076 non-null  bool               \n",
      " 80  opp_Leeds            126076 non-null  bool               \n",
      " 81  opp_Leicester        126076 non-null  bool               \n",
      " 82  opp_Liverpool        126076 non-null  bool               \n",
      " 83  opp_Luton            126076 non-null  bool               \n",
      " 84  opp_Man City         126076 non-null  bool               \n",
      " 85  opp_Man Utd          126076 non-null  bool               \n",
      " 86  opp_Middlesbrough    126076 non-null  bool               \n",
      " 87  opp_Newcastle        126076 non-null  bool               \n",
      " 88  opp_Norwich          126076 non-null  bool               \n",
      " 89  opp_Nott'm Forest    126076 non-null  bool               \n",
      " 90  opp_Sheffield Utd    126076 non-null  bool               \n",
      " 91  opp_Southampton      126076 non-null  bool               \n",
      " 92  opp_Spurs            126076 non-null  bool               \n",
      " 93  opp_Stoke            126076 non-null  bool               \n",
      " 94  opp_Sunderland       126076 non-null  bool               \n",
      " 95  opp_Swansea          126076 non-null  bool               \n",
      " 96  opp_Watford          126076 non-null  bool               \n",
      " 97  opp_West Brom        126076 non-null  bool               \n",
      " 98  opp_West Ham         126076 non-null  bool               \n",
      " 99  opp_Wolves           126076 non-null  bool               \n",
      "dtypes: bool(63), datetime64[ns, UTC](1), float64(11), int64(23), object(2)\n",
      "memory usage: 43.2+ MB\n",
      "None\n",
      "--------------------------------------------\n",
      "             assists          bonus            bps   clean_sheets  \\\n",
      "count  126076.000000  126076.000000  126076.000000  126076.000000   \n",
      "mean        0.039801       0.102216       5.741172       0.096513   \n",
      "std         0.212821       0.477914       9.657314       0.295295   \n",
      "min         0.000000       0.000000     -21.000000       0.000000   \n",
      "25%         0.000000       0.000000       0.000000       0.000000   \n",
      "50%         0.000000       0.000000       0.000000       0.000000   \n",
      "75%         0.000000       0.000000       9.000000       0.000000   \n",
      "max         4.000000       3.000000     128.000000       1.000000   \n",
      "\n",
      "          creativity        element        fixture  goals_conceded  \\\n",
      "count  126076.000000  126076.000000  126076.000000   126076.000000   \n",
      "mean        4.570277     343.041070     198.537945        0.486976   \n",
      "std        10.630072     205.310744     108.933461        0.970930   \n",
      "min         0.000000       1.000000       1.000000        0.000000   \n",
      "25%         0.000000     167.000000     105.000000        0.000000   \n",
      "50%         0.000000     334.000000     203.000000        0.000000   \n",
      "75%         2.100000     508.000000     293.000000        1.000000   \n",
      "max       170.900000     866.000000     380.000000        9.000000   \n",
      "\n",
      "        goals_scored      ict_index  ...  transfers_balance  transfers_in  \\\n",
      "count  126076.000000  126076.000000  ...       1.260760e+05  1.260760e+05   \n",
      "mean        0.044203       1.635007  ...       1.540375e+03  1.433847e+04   \n",
      "std         0.230470       2.986089  ...       6.840564e+04  5.829435e+04   \n",
      "min         0.000000       0.000000  ...      -2.693401e+06  0.000000e+00   \n",
      "25%         0.000000       0.000000  ...      -1.169000e+03  3.400000e+01   \n",
      "50%         0.000000       0.000000  ...      -5.000000e+01  3.360000e+02   \n",
      "75%         0.000000       2.300000  ...       5.200000e+01  4.301000e+03   \n",
      "max         4.000000      32.800000  ...       1.983733e+06  2.104464e+06   \n",
      "\n",
      "       transfers_out          value   yellow_cards             GW  \\\n",
      "count   1.260760e+05  126076.000000  126076.000000  126076.000000   \n",
      "mean    1.279763e+04       5.060511       0.053198      20.718178   \n",
      "std     5.060952e+04       1.217877       0.224429      10.966570   \n",
      "min     0.000000e+00       3.600000       0.000000       1.000000   \n",
      "25%     1.020000e+02       4.400000       0.000000      11.000000   \n",
      "50%     8.860000e+02       4.700000       0.000000      22.000000   \n",
      "75%     6.764000e+03       5.400000       0.000000      30.000000   \n",
      "max     2.747279e+06      14.500000       1.000000      38.000000   \n",
      "\n",
      "              points  team_goals_scored  team_goals_conceded  team_goals_diff  \n",
      "count  126076.000000      126076.000000        126076.000000    126076.000000  \n",
      "mean       22.725126          23.833830            24.236706        -0.402876  \n",
      "std        18.994899          19.644356            19.095192        15.513475  \n",
      "min         0.000000           0.000000             0.000000       -67.000000  \n",
      "25%         6.000000           6.000000             7.000000        -8.000000  \n",
      "50%        21.000000          22.000000            22.000000         0.000000  \n",
      "75%        36.000000          37.000000            38.000000         5.000000  \n",
      "max        90.000000          94.000000           100.000000        69.000000  \n",
      "\n",
      "[8 rows x 34 columns]\n",
      "--------------------------------------------\n",
      "  season_x                name  assists  bonus  bps  clean_sheets  creativity  \\\n",
      "0  2016-17     Aaron Cresswell        0      0    0             0         0.0   \n",
      "1  2016-17        Aaron Lennon        0      0    6             0         0.3   \n",
      "2  2016-17        Aaron Ramsey        0      0    5             0         4.9   \n",
      "3  2016-17  Abdoulaye Doucouré        0      0    0             0         0.0   \n",
      "4  2016-17   Abdul Rahman Baba        0      0    0             0         0.0   \n",
      "\n",
      "   element  fixture  goals_conceded  ...  opp_Sheffield Utd  opp_Southampton  \\\n",
      "0      454       10               0  ...              False            False   \n",
      "1      142        3               0  ...              False            False   \n",
      "2       16        8               3  ...              False            False   \n",
      "3      482        7               0  ...              False             True   \n",
      "4       80       10               0  ...              False            False   \n",
      "\n",
      "   opp_Spurs opp_Stoke  opp_Sunderland  opp_Swansea  opp_Watford  \\\n",
      "0      False     False           False        False        False   \n",
      "1       True     False           False        False        False   \n",
      "2      False     False           False        False        False   \n",
      "3      False     False           False        False        False   \n",
      "4      False     False           False        False        False   \n",
      "\n",
      "   opp_West Brom  opp_West Ham  opp_Wolves  \n",
      "0          False         False       False  \n",
      "1          False         False       False  \n",
      "2          False         False       False  \n",
      "3          False         False       False  \n",
      "4          False          True       False  \n",
      "\n",
      "[5 rows x 100 columns]\n"
     ]
    }
   ],
   "source": [
    "print(df.info())\n",
    "print(\"--------------------------------------------\")\n",
    "print(df.describe())\n",
    "print(\"--------------------------------------------\")\n",
    "print(df.head())"
   ]
  },
  {
   "cell_type": "code",
   "execution_count": 187,
   "id": "a53088a2-4cd1-4fe7-a56d-aa757cfa694d",
   "metadata": {},
   "outputs": [
    {
     "data": {
      "text/plain": [
       "array(['season_x', 'name', 'assists', 'bonus', 'bps', 'clean_sheets',\n",
       "       'creativity', 'element', 'fixture', 'goals_conceded',\n",
       "       'goals_scored', 'ict_index', 'influence', 'kickoff_time',\n",
       "       'minutes', 'opponent_team', 'own_goals', 'penalties_missed',\n",
       "       'penalties_saved', 'red_cards', 'round', 'saves', 'selected',\n",
       "       'team_a_score', 'team_h_score', 'threat', 'total_points',\n",
       "       'transfers_balance', 'transfers_in', 'transfers_out', 'value',\n",
       "       'was_home', 'yellow_cards', 'GW', 'points', 'team_goals_scored',\n",
       "       'team_goals_conceded', 'team_goals_diff', 'pos_DEF', 'pos_FWD',\n",
       "       'pos_GK', 'pos_MID', 'team_Arsenal', 'team_Aston Villa',\n",
       "       'team_Bournemouth', 'team_Brentford', 'team_Brighton',\n",
       "       'team_Burnley', 'team_Chelsea', 'team_Crystal Palace',\n",
       "       'team_Everton', 'team_Fulham', 'team_Leeds', 'team_Leicester',\n",
       "       'team_Liverpool', 'team_Luton', 'team_Man City', 'team_Man Utd',\n",
       "       'team_Newcastle', 'team_Norwich', \"team_Nott'm Forest\",\n",
       "       'team_Sheffield Utd', 'team_Southampton', 'team_Spurs',\n",
       "       'team_Watford', 'team_West Brom', 'team_West Ham', 'team_Wolves',\n",
       "       'opp_Arsenal', 'opp_Aston Villa', 'opp_Bournemouth',\n",
       "       'opp_Brentford', 'opp_Brighton', 'opp_Burnley', 'opp_Chelsea',\n",
       "       'opp_Crystal Palace', 'opp_Everton', 'opp_Fulham',\n",
       "       'opp_Huddersfield', 'opp_Hull', 'opp_Leeds', 'opp_Leicester',\n",
       "       'opp_Liverpool', 'opp_Luton', 'opp_Man City', 'opp_Man Utd',\n",
       "       'opp_Middlesbrough', 'opp_Newcastle', 'opp_Norwich',\n",
       "       \"opp_Nott'm Forest\", 'opp_Sheffield Utd', 'opp_Southampton',\n",
       "       'opp_Spurs', 'opp_Stoke', 'opp_Sunderland', 'opp_Swansea',\n",
       "       'opp_Watford', 'opp_West Brom', 'opp_West Ham', 'opp_Wolves'],\n",
       "      dtype=object)"
      ]
     },
     "execution_count": 187,
     "metadata": {},
     "output_type": "execute_result"
    }
   ],
   "source": [
    "df.columns.values"
   ]
  },
  {
   "cell_type": "markdown",
   "id": "e8ea7881-8892-4727-a50b-8dde74d89a4f",
   "metadata": {},
   "source": [
    "### let’s build the optimization-based FPL team picker (11 starters + bench)"
   ]
  },
  {
   "cell_type": "code",
   "execution_count": 188,
   "id": "13741c1d-9bae-4ebb-85f0-96610dd5c40c",
   "metadata": {},
   "outputs": [],
   "source": [
    "import pandas as pd\n",
    "import numpy as np \n",
    "from pulp import LpProblem,LpVariable,LpMaximize,lpSum,LpBinary,PULP_CBC_CMD\n"
   ]
  },
  {
   "cell_type": "code",
   "execution_count": 19,
   "id": "7569165d-17b7-456f-a51f-79fa6b51b2aa",
   "metadata": {},
   "outputs": [
    {
     "name": "stdout",
     "output_type": "stream",
     "text": [
      "Collecting pulp\n",
      "  Using cached pulp-3.2.2-py3-none-any.whl.metadata (6.9 kB)\n",
      "Using cached pulp-3.2.2-py3-none-any.whl (16.4 MB)\n",
      "Installing collected packages: pulp\n",
      "Successfully installed pulp-3.2.2\n",
      "Note: you may need to restart the kernel to use updated packages.\n"
     ]
    }
   ],
   "source": [
    "pip install pulp"
   ]
  },
  {
   "cell_type": "markdown",
   "id": "85628779-07d3-4afd-9e1b-e10a07230a71",
   "metadata": {},
   "source": [
    "### # --- 1) Target Params you can change"
   ]
  },
  {
   "cell_type": "code",
   "execution_count": 189,
   "id": "2605bf14-491a-4d4a-beaf-826f302dc190",
   "metadata": {},
   "outputs": [],
   "source": [
    "TARGET_SEASON = \"2023-24\"       # season to pick a team for\n",
    "TARGET_GW = 10                  # gameweek to pick a team for\n",
    "BUDGET_MILLIONS = 100.0         # FPL budget\n",
    "VALUE_SCALE = 10.0              # your 'value' looks like 50 -> 5.0M, so divide by 10\n",
    "BENCH_WEIGHT = 0.1              # tiny weight for bench expected points (optional)"
   ]
  },
  {
   "cell_type": "markdown",
   "id": "f86ec3e9-fae4-4734-a283-8a8ec67f5a81",
   "metadata": {},
   "source": [
    "### # Formation rules for starters (FPL valid formations)"
   ]
  },
  {
   "cell_type": "code",
   "execution_count": 22,
   "id": "eb34968e-7fb0-46fa-89cb-22f714e4530f",
   "metadata": {},
   "outputs": [],
   "source": [
    "MIN_DEF_STARTERS, MAX_DEF_STARTERS = 3, 5\n",
    "MIN_MID_STARTERS, MAX_MID_STARTERS = 2, 5\n",
    "MIN_FWD_STARTERS, MAX_FWD_STARTERS = 1, 3"
   ]
  },
  {
   "cell_type": "markdown",
   "id": "24089e41-3cf9-46fc-ae97-8fbaa3e59587",
   "metadata": {},
   "source": [
    "###  --- 2) Expect the dataframe df to be loaded already"
   ]
  },
  {
   "cell_type": "code",
   "execution_count": 190,
   "id": "c4fe85de-6587-4ffa-971f-999af112bd4f",
   "metadata": {},
   "outputs": [
    {
     "data": {
      "text/html": [
       "<div>\n",
       "<style scoped>\n",
       "    .dataframe tbody tr th:only-of-type {\n",
       "        vertical-align: middle;\n",
       "    }\n",
       "\n",
       "    .dataframe tbody tr th {\n",
       "        vertical-align: top;\n",
       "    }\n",
       "\n",
       "    .dataframe thead th {\n",
       "        text-align: right;\n",
       "    }\n",
       "</style>\n",
       "<table border=\"1\" class=\"dataframe\">\n",
       "  <thead>\n",
       "    <tr style=\"text-align: right;\">\n",
       "      <th></th>\n",
       "      <th>season_x</th>\n",
       "      <th>name</th>\n",
       "      <th>assists</th>\n",
       "      <th>bonus</th>\n",
       "      <th>bps</th>\n",
       "      <th>clean_sheets</th>\n",
       "      <th>creativity</th>\n",
       "      <th>element</th>\n",
       "      <th>fixture</th>\n",
       "      <th>goals_conceded</th>\n",
       "      <th>...</th>\n",
       "      <th>opp_Sheffield Utd</th>\n",
       "      <th>opp_Southampton</th>\n",
       "      <th>opp_Spurs</th>\n",
       "      <th>opp_Stoke</th>\n",
       "      <th>opp_Sunderland</th>\n",
       "      <th>opp_Swansea</th>\n",
       "      <th>opp_Watford</th>\n",
       "      <th>opp_West Brom</th>\n",
       "      <th>opp_West Ham</th>\n",
       "      <th>opp_Wolves</th>\n",
       "    </tr>\n",
       "  </thead>\n",
       "  <tbody>\n",
       "    <tr>\n",
       "      <th>0</th>\n",
       "      <td>2016-17</td>\n",
       "      <td>Aaron Cresswell</td>\n",
       "      <td>0</td>\n",
       "      <td>0</td>\n",
       "      <td>0</td>\n",
       "      <td>0</td>\n",
       "      <td>0.0</td>\n",
       "      <td>454</td>\n",
       "      <td>10</td>\n",
       "      <td>0</td>\n",
       "      <td>...</td>\n",
       "      <td>False</td>\n",
       "      <td>False</td>\n",
       "      <td>False</td>\n",
       "      <td>False</td>\n",
       "      <td>False</td>\n",
       "      <td>False</td>\n",
       "      <td>False</td>\n",
       "      <td>False</td>\n",
       "      <td>False</td>\n",
       "      <td>False</td>\n",
       "    </tr>\n",
       "    <tr>\n",
       "      <th>1</th>\n",
       "      <td>2016-17</td>\n",
       "      <td>Aaron Lennon</td>\n",
       "      <td>0</td>\n",
       "      <td>0</td>\n",
       "      <td>6</td>\n",
       "      <td>0</td>\n",
       "      <td>0.3</td>\n",
       "      <td>142</td>\n",
       "      <td>3</td>\n",
       "      <td>0</td>\n",
       "      <td>...</td>\n",
       "      <td>False</td>\n",
       "      <td>False</td>\n",
       "      <td>True</td>\n",
       "      <td>False</td>\n",
       "      <td>False</td>\n",
       "      <td>False</td>\n",
       "      <td>False</td>\n",
       "      <td>False</td>\n",
       "      <td>False</td>\n",
       "      <td>False</td>\n",
       "    </tr>\n",
       "    <tr>\n",
       "      <th>2</th>\n",
       "      <td>2016-17</td>\n",
       "      <td>Aaron Ramsey</td>\n",
       "      <td>0</td>\n",
       "      <td>0</td>\n",
       "      <td>5</td>\n",
       "      <td>0</td>\n",
       "      <td>4.9</td>\n",
       "      <td>16</td>\n",
       "      <td>8</td>\n",
       "      <td>3</td>\n",
       "      <td>...</td>\n",
       "      <td>False</td>\n",
       "      <td>False</td>\n",
       "      <td>False</td>\n",
       "      <td>False</td>\n",
       "      <td>False</td>\n",
       "      <td>False</td>\n",
       "      <td>False</td>\n",
       "      <td>False</td>\n",
       "      <td>False</td>\n",
       "      <td>False</td>\n",
       "    </tr>\n",
       "    <tr>\n",
       "      <th>3</th>\n",
       "      <td>2016-17</td>\n",
       "      <td>Abdoulaye Doucouré</td>\n",
       "      <td>0</td>\n",
       "      <td>0</td>\n",
       "      <td>0</td>\n",
       "      <td>0</td>\n",
       "      <td>0.0</td>\n",
       "      <td>482</td>\n",
       "      <td>7</td>\n",
       "      <td>0</td>\n",
       "      <td>...</td>\n",
       "      <td>False</td>\n",
       "      <td>True</td>\n",
       "      <td>False</td>\n",
       "      <td>False</td>\n",
       "      <td>False</td>\n",
       "      <td>False</td>\n",
       "      <td>False</td>\n",
       "      <td>False</td>\n",
       "      <td>False</td>\n",
       "      <td>False</td>\n",
       "    </tr>\n",
       "    <tr>\n",
       "      <th>4</th>\n",
       "      <td>2016-17</td>\n",
       "      <td>Abdul Rahman Baba</td>\n",
       "      <td>0</td>\n",
       "      <td>0</td>\n",
       "      <td>0</td>\n",
       "      <td>0</td>\n",
       "      <td>0.0</td>\n",
       "      <td>80</td>\n",
       "      <td>10</td>\n",
       "      <td>0</td>\n",
       "      <td>...</td>\n",
       "      <td>False</td>\n",
       "      <td>False</td>\n",
       "      <td>False</td>\n",
       "      <td>False</td>\n",
       "      <td>False</td>\n",
       "      <td>False</td>\n",
       "      <td>False</td>\n",
       "      <td>False</td>\n",
       "      <td>True</td>\n",
       "      <td>False</td>\n",
       "    </tr>\n",
       "  </tbody>\n",
       "</table>\n",
       "<p>5 rows × 100 columns</p>\n",
       "</div>"
      ],
      "text/plain": [
       "  season_x                name  assists  bonus  bps  clean_sheets  creativity  \\\n",
       "0  2016-17     Aaron Cresswell        0      0    0             0         0.0   \n",
       "1  2016-17        Aaron Lennon        0      0    6             0         0.3   \n",
       "2  2016-17        Aaron Ramsey        0      0    5             0         4.9   \n",
       "3  2016-17  Abdoulaye Doucouré        0      0    0             0         0.0   \n",
       "4  2016-17   Abdul Rahman Baba        0      0    0             0         0.0   \n",
       "\n",
       "   element  fixture  goals_conceded  ...  opp_Sheffield Utd  opp_Southampton  \\\n",
       "0      454       10               0  ...              False            False   \n",
       "1      142        3               0  ...              False            False   \n",
       "2       16        8               3  ...              False            False   \n",
       "3      482        7               0  ...              False             True   \n",
       "4       80       10               0  ...              False            False   \n",
       "\n",
       "   opp_Spurs opp_Stoke  opp_Sunderland  opp_Swansea  opp_Watford  \\\n",
       "0      False     False           False        False        False   \n",
       "1       True     False           False        False        False   \n",
       "2      False     False           False        False        False   \n",
       "3      False     False           False        False        False   \n",
       "4      False     False           False        False        False   \n",
       "\n",
       "   opp_West Brom  opp_West Ham  opp_Wolves  \n",
       "0          False         False       False  \n",
       "1          False         False       False  \n",
       "2          False         False       False  \n",
       "3          False         False       False  \n",
       "4          False          True       False  \n",
       "\n",
       "[5 rows x 100 columns]"
      ]
     },
     "execution_count": 190,
     "metadata": {},
     "output_type": "execute_result"
    }
   ],
   "source": [
    "df.head()"
   ]
  },
  {
   "cell_type": "code",
   "execution_count": 191,
   "id": "61a95705-472f-4858-b49f-04f06a86756e",
   "metadata": {},
   "outputs": [
    {
     "data": {
      "text/plain": [
       "0    5.5\n",
       "1    6.0\n",
       "2    8.0\n",
       "3    5.0\n",
       "4    5.5\n",
       "Name: value, dtype: float64"
      ]
     },
     "execution_count": 191,
     "metadata": {},
     "output_type": "execute_result"
    }
   ],
   "source": [
    "df.value.head()"
   ]
  },
  {
   "cell_type": "markdown",
   "id": "a1b89007-931a-426b-a52b-a008c328b386",
   "metadata": {},
   "source": [
    "### --- 3) Basic cleaning / helpers -------------------------------------------------\n"
   ]
  },
  {
   "cell_type": "code",
   "execution_count": 192,
   "id": "b1d9199a-6212-49a8-ae18-84365dfb58de",
   "metadata": {},
   "outputs": [
    {
     "data": {
      "text/plain": [
       "array(['season_x', 'name', 'assists', 'bonus', 'bps', 'clean_sheets',\n",
       "       'creativity', 'element', 'fixture', 'goals_conceded',\n",
       "       'goals_scored', 'ict_index', 'influence', 'kickoff_time',\n",
       "       'minutes', 'opponent_team', 'own_goals', 'penalties_missed',\n",
       "       'penalties_saved', 'red_cards', 'round', 'saves', 'selected',\n",
       "       'team_a_score', 'team_h_score', 'threat', 'total_points',\n",
       "       'transfers_balance', 'transfers_in', 'transfers_out', 'value',\n",
       "       'was_home', 'yellow_cards', 'GW', 'points', 'team_goals_scored',\n",
       "       'team_goals_conceded', 'team_goals_diff', 'pos_DEF', 'pos_FWD',\n",
       "       'pos_GK', 'pos_MID', 'team_Arsenal', 'team_Aston Villa',\n",
       "       'team_Bournemouth', 'team_Brentford', 'team_Brighton',\n",
       "       'team_Burnley', 'team_Chelsea', 'team_Crystal Palace',\n",
       "       'team_Everton', 'team_Fulham', 'team_Leeds', 'team_Leicester',\n",
       "       'team_Liverpool', 'team_Luton', 'team_Man City', 'team_Man Utd',\n",
       "       'team_Newcastle', 'team_Norwich', \"team_Nott'm Forest\",\n",
       "       'team_Sheffield Utd', 'team_Southampton', 'team_Spurs',\n",
       "       'team_Watford', 'team_West Brom', 'team_West Ham', 'team_Wolves',\n",
       "       'opp_Arsenal', 'opp_Aston Villa', 'opp_Bournemouth',\n",
       "       'opp_Brentford', 'opp_Brighton', 'opp_Burnley', 'opp_Chelsea',\n",
       "       'opp_Crystal Palace', 'opp_Everton', 'opp_Fulham',\n",
       "       'opp_Huddersfield', 'opp_Hull', 'opp_Leeds', 'opp_Leicester',\n",
       "       'opp_Liverpool', 'opp_Luton', 'opp_Man City', 'opp_Man Utd',\n",
       "       'opp_Middlesbrough', 'opp_Newcastle', 'opp_Norwich',\n",
       "       \"opp_Nott'm Forest\", 'opp_Sheffield Utd', 'opp_Southampton',\n",
       "       'opp_Spurs', 'opp_Stoke', 'opp_Sunderland', 'opp_Swansea',\n",
       "       'opp_Watford', 'opp_West Brom', 'opp_West Ham', 'opp_Wolves'],\n",
       "      dtype=object)"
      ]
     },
     "execution_count": 192,
     "metadata": {},
     "output_type": "execute_result"
    }
   ],
   "source": [
    "df.columns.values"
   ]
  },
  {
   "cell_type": "code",
   "execution_count": 193,
   "id": "0e94b03d-ef50-40f2-9ca7-08dfd80151ca",
   "metadata": {},
   "outputs": [
    {
     "data": {
      "text/plain": [
       "0    False\n",
       "1    False\n",
       "2    False\n",
       "3    False\n",
       "4    False\n",
       "Name: pos_GK, dtype: bool"
      ]
     },
     "execution_count": 193,
     "metadata": {},
     "output_type": "execute_result"
    }
   ],
   "source": [
    "df[\"pos_GK\"].head()"
   ]
  },
  {
   "cell_type": "code",
   "execution_count": 194,
   "id": "17ec03df-13a5-4c6a-8507-60768f7e56af",
   "metadata": {},
   "outputs": [
    {
     "data": {
      "text/plain": [
       "14095"
      ]
     },
     "execution_count": 194,
     "metadata": {},
     "output_type": "execute_result"
    }
   ],
   "source": [
    "df[\"pos_GK\"].sum()"
   ]
  },
  {
   "cell_type": "markdown",
   "id": "a7c68d30-10a5-4fbf-b614-9a9f9bc3b714",
   "metadata": {},
   "source": [
    "GK DEF MID FWD FLAGS"
   ]
  },
  {
   "cell_type": "code",
   "execution_count": 195,
   "id": "dc957944-53f9-4b52-8bf3-beffa280fcdb",
   "metadata": {},
   "outputs": [],
   "source": [
    "pos_cols = set(df.columns)\n",
    "\n",
    "is_gk = np.zeros(len(df), dtype=int)   \n",
    "# Create a numpy array of zeros with the same length as the number of rows in df.\n",
    "# Each entry will be 0 or 1 to indicate whether that player is a goalkeeper.\n",
    "\n",
    "if 'pos_GK' in pos_cols:\n",
    "    is_gk |= df['pos_GK'].astype(int).values  \n",
    "# Take that column, convert it to integers (0 or 1), and OR (|=) it into is_gk.\n",
    "# Example: if pos_GK = [1,0,0,0,...], then is_gk will become [1,0,0,0,...].\n",
    "\n",
    "\n",
    "df['is_GK'] = is_gk\n",
    "\n",
    "\n",
    "df['is_DEF'] = df['pos_DEF'].astype(int) if 'pos_DEF' in pos_cols else 0\n",
    "df['is_MID'] = df['pos_MID'].astype(int) if 'pos_MID' in pos_cols else 0\n",
    "df['is_FWD'] = df['pos_FWD'].astype(int) if 'pos_FWD' in pos_cols else 0"
   ]
  },
  {
   "cell_type": "code",
   "execution_count": 196,
   "id": "b8852ed4-2964-428b-ba5e-25787f097636",
   "metadata": {},
   "outputs": [
    {
     "data": {
      "text/plain": [
       "14095"
      ]
     },
     "execution_count": 196,
     "metadata": {},
     "output_type": "execute_result"
    }
   ],
   "source": [
    "df['is_GK'].sum()"
   ]
  },
  {
   "cell_type": "markdown",
   "id": "1b2e7364-2518-489c-ba4e-ffb62fc71422",
   "metadata": {},
   "source": [
    "- .astype(int) converts it into integers (still a Series).\n",
    "\n",
    "- So :\n",
    "\n",
    "is_gk |= df['pos_GKP'].astype(int).values\n",
    "\n",
    "\n",
    "- is equivalent to\n",
    "\n",
    "is_gk = is_gk | df['pos_GKP'].astype(int).values\n",
    "\n",
    "\n",
    "- Since both sides are NumPy arrays of integers, this works element-wise:\n",
    "\n",
    "0 | 0 = 0\n",
    "\n",
    "0 | 1 = 1\n",
    "\n",
    "1 | 0 = 1\n",
    "\n",
    "1 | 1 = 1"
   ]
  },
  {
   "cell_type": "code",
   "execution_count": 197,
   "id": "e5669f29-dc05-4638-aade-a0a6a6c7feaa",
   "metadata": {},
   "outputs": [
    {
     "data": {
      "text/html": [
       "<div>\n",
       "<style scoped>\n",
       "    .dataframe tbody tr th:only-of-type {\n",
       "        vertical-align: middle;\n",
       "    }\n",
       "\n",
       "    .dataframe tbody tr th {\n",
       "        vertical-align: top;\n",
       "    }\n",
       "\n",
       "    .dataframe thead th {\n",
       "        text-align: right;\n",
       "    }\n",
       "</style>\n",
       "<table border=\"1\" class=\"dataframe\">\n",
       "  <thead>\n",
       "    <tr style=\"text-align: right;\">\n",
       "      <th></th>\n",
       "      <th>is_GK</th>\n",
       "      <th>is_DEF</th>\n",
       "      <th>is_MID</th>\n",
       "      <th>is_FWD</th>\n",
       "    </tr>\n",
       "  </thead>\n",
       "  <tbody>\n",
       "    <tr>\n",
       "      <th>0</th>\n",
       "      <td>0</td>\n",
       "      <td>1</td>\n",
       "      <td>0</td>\n",
       "      <td>0</td>\n",
       "    </tr>\n",
       "    <tr>\n",
       "      <th>1</th>\n",
       "      <td>0</td>\n",
       "      <td>0</td>\n",
       "      <td>1</td>\n",
       "      <td>0</td>\n",
       "    </tr>\n",
       "    <tr>\n",
       "      <th>2</th>\n",
       "      <td>0</td>\n",
       "      <td>0</td>\n",
       "      <td>1</td>\n",
       "      <td>0</td>\n",
       "    </tr>\n",
       "    <tr>\n",
       "      <th>3</th>\n",
       "      <td>0</td>\n",
       "      <td>0</td>\n",
       "      <td>1</td>\n",
       "      <td>0</td>\n",
       "    </tr>\n",
       "    <tr>\n",
       "      <th>4</th>\n",
       "      <td>0</td>\n",
       "      <td>1</td>\n",
       "      <td>0</td>\n",
       "      <td>0</td>\n",
       "    </tr>\n",
       "  </tbody>\n",
       "</table>\n",
       "</div>"
      ],
      "text/plain": [
       "   is_GK  is_DEF  is_MID  is_FWD\n",
       "0      0       1       0       0\n",
       "1      0       0       1       0\n",
       "2      0       0       1       0\n",
       "3      0       0       1       0\n",
       "4      0       1       0       0"
      ]
     },
     "execution_count": 197,
     "metadata": {},
     "output_type": "execute_result"
    }
   ],
   "source": [
    "df[['is_GK','is_DEF','is_MID','is_FWD']].head()"
   ]
  },
  {
   "cell_type": "markdown",
   "id": "03704882-3909-49e0-925d-a8e024acb4eb",
   "metadata": {},
   "source": [
    "### Sanity: exactly one position per row\n"
   ]
  },
  {
   "cell_type": "code",
   "execution_count": 198,
   "id": "631f110c-4059-4b11-8c6a-5b10fb420812",
   "metadata": {},
   "outputs": [
    {
     "data": {
      "text/plain": [
       "(126076, 104)"
      ]
     },
     "execution_count": 198,
     "metadata": {},
     "output_type": "execute_result"
    }
   ],
   "source": [
    "df.shape"
   ]
  },
  {
   "cell_type": "code",
   "execution_count": 199,
   "id": "1a2cf551-2ca3-445b-a4a3-231348bde2a3",
   "metadata": {},
   "outputs": [],
   "source": [
    "pos_sum = df[['is_GK','is_DEF','is_MID','is_FWD']].sum(axis=1)\n",
    "\n",
    "# remove rows where position isn't unique\n",
    "df = df[pos_sum == 1].copy()"
   ]
  },
  {
   "cell_type": "code",
   "execution_count": 200,
   "id": "6a6a3788-7149-4a11-9fe6-5124f9e8bedf",
   "metadata": {},
   "outputs": [
    {
     "data": {
      "text/plain": [
       "(126076, 104)"
      ]
     },
     "execution_count": 200,
     "metadata": {},
     "output_type": "execute_result"
    }
   ],
   "source": [
    "df.shape"
   ]
  },
  {
   "cell_type": "markdown",
   "id": "fe8e6788-b7cb-49b6-886f-8927d1457465",
   "metadata": {},
   "source": [
    "- .copy() → creates a fresh DataFrame copy of the filtered result.\n",
    "\n",
    "- This avoids the SettingWithCopyWarning in Pandas when modifying later.\n",
    "\n",
    "- It’s a safe practice: we now have a clean, independent DataFrame containing only valid players."
   ]
  },
  {
   "cell_type": "markdown",
   "id": "4dcff3d4-7ec5-4df6-8adb-43de97a3ee69",
   "metadata": {},
   "source": [
    "### --- 4) Build a simple \"expected_points\" for the target GW ----------------------\n",
    "- We’ll use: last-3-GW average per player in the same season (form),\n",
    "- with fallback to season average, then to overall career average.\n"
   ]
  },
  {
   "cell_type": "code",
   "execution_count": 201,
   "id": "55f921f2-20a6-4806-bc14-e1914aa85937",
   "metadata": {},
   "outputs": [],
   "source": [
    "# Ensure proper sorting\n",
    "df.sort_values(['name','season_x','GW'],inplace=True)"
   ]
  },
  {
   "cell_type": "code",
   "execution_count": 202,
   "id": "71247000-5c31-4c6f-9d8b-e113a78f2050",
   "metadata": {},
   "outputs": [
    {
     "data": {
      "text/html": [
       "<div>\n",
       "<style scoped>\n",
       "    .dataframe tbody tr th:only-of-type {\n",
       "        vertical-align: middle;\n",
       "    }\n",
       "\n",
       "    .dataframe tbody tr th {\n",
       "        vertical-align: top;\n",
       "    }\n",
       "\n",
       "    .dataframe thead th {\n",
       "        text-align: right;\n",
       "    }\n",
       "</style>\n",
       "<table border=\"1\" class=\"dataframe\">\n",
       "  <thead>\n",
       "    <tr style=\"text-align: right;\">\n",
       "      <th></th>\n",
       "      <th>season_x</th>\n",
       "      <th>name</th>\n",
       "      <th>assists</th>\n",
       "      <th>bonus</th>\n",
       "      <th>bps</th>\n",
       "      <th>clean_sheets</th>\n",
       "      <th>creativity</th>\n",
       "      <th>element</th>\n",
       "      <th>fixture</th>\n",
       "      <th>goals_conceded</th>\n",
       "      <th>...</th>\n",
       "      <th>opp_Sunderland</th>\n",
       "      <th>opp_Swansea</th>\n",
       "      <th>opp_Watford</th>\n",
       "      <th>opp_West Brom</th>\n",
       "      <th>opp_West Ham</th>\n",
       "      <th>opp_Wolves</th>\n",
       "      <th>is_GK</th>\n",
       "      <th>is_DEF</th>\n",
       "      <th>is_MID</th>\n",
       "      <th>is_FWD</th>\n",
       "    </tr>\n",
       "  </thead>\n",
       "  <tbody>\n",
       "    <tr>\n",
       "      <th>20034</th>\n",
       "      <td>2020-21</td>\n",
       "      <td>Aaron Connolly</td>\n",
       "      <td>0</td>\n",
       "      <td>0</td>\n",
       "      <td>-3</td>\n",
       "      <td>0</td>\n",
       "      <td>0.3</td>\n",
       "      <td>78</td>\n",
       "      <td>7</td>\n",
       "      <td>2</td>\n",
       "      <td>...</td>\n",
       "      <td>False</td>\n",
       "      <td>False</td>\n",
       "      <td>False</td>\n",
       "      <td>False</td>\n",
       "      <td>False</td>\n",
       "      <td>False</td>\n",
       "      <td>0</td>\n",
       "      <td>0</td>\n",
       "      <td>0</td>\n",
       "      <td>1</td>\n",
       "    </tr>\n",
       "    <tr>\n",
       "      <th>20459</th>\n",
       "      <td>2020-21</td>\n",
       "      <td>Aaron Connolly</td>\n",
       "      <td>0</td>\n",
       "      <td>2</td>\n",
       "      <td>27</td>\n",
       "      <td>1</td>\n",
       "      <td>11.3</td>\n",
       "      <td>78</td>\n",
       "      <td>16</td>\n",
       "      <td>0</td>\n",
       "      <td>...</td>\n",
       "      <td>False</td>\n",
       "      <td>False</td>\n",
       "      <td>False</td>\n",
       "      <td>False</td>\n",
       "      <td>False</td>\n",
       "      <td>False</td>\n",
       "      <td>0</td>\n",
       "      <td>0</td>\n",
       "      <td>0</td>\n",
       "      <td>1</td>\n",
       "    </tr>\n",
       "    <tr>\n",
       "      <th>20998</th>\n",
       "      <td>2020-21</td>\n",
       "      <td>Aaron Connolly</td>\n",
       "      <td>0</td>\n",
       "      <td>0</td>\n",
       "      <td>2</td>\n",
       "      <td>0</td>\n",
       "      <td>12.1</td>\n",
       "      <td>78</td>\n",
       "      <td>19</td>\n",
       "      <td>2</td>\n",
       "      <td>...</td>\n",
       "      <td>False</td>\n",
       "      <td>False</td>\n",
       "      <td>False</td>\n",
       "      <td>False</td>\n",
       "      <td>False</td>\n",
       "      <td>False</td>\n",
       "      <td>0</td>\n",
       "      <td>0</td>\n",
       "      <td>0</td>\n",
       "      <td>1</td>\n",
       "    </tr>\n",
       "    <tr>\n",
       "      <th>21552</th>\n",
       "      <td>2020-21</td>\n",
       "      <td>Aaron Connolly</td>\n",
       "      <td>0</td>\n",
       "      <td>0</td>\n",
       "      <td>7</td>\n",
       "      <td>0</td>\n",
       "      <td>0.3</td>\n",
       "      <td>78</td>\n",
       "      <td>32</td>\n",
       "      <td>3</td>\n",
       "      <td>...</td>\n",
       "      <td>False</td>\n",
       "      <td>False</td>\n",
       "      <td>False</td>\n",
       "      <td>False</td>\n",
       "      <td>False</td>\n",
       "      <td>False</td>\n",
       "      <td>0</td>\n",
       "      <td>0</td>\n",
       "      <td>0</td>\n",
       "      <td>1</td>\n",
       "    </tr>\n",
       "    <tr>\n",
       "      <th>22114</th>\n",
       "      <td>2020-21</td>\n",
       "      <td>Aaron Connolly</td>\n",
       "      <td>1</td>\n",
       "      <td>0</td>\n",
       "      <td>13</td>\n",
       "      <td>0</td>\n",
       "      <td>10.3</td>\n",
       "      <td>78</td>\n",
       "      <td>40</td>\n",
       "      <td>0</td>\n",
       "      <td>...</td>\n",
       "      <td>False</td>\n",
       "      <td>False</td>\n",
       "      <td>False</td>\n",
       "      <td>False</td>\n",
       "      <td>False</td>\n",
       "      <td>False</td>\n",
       "      <td>0</td>\n",
       "      <td>0</td>\n",
       "      <td>0</td>\n",
       "      <td>1</td>\n",
       "    </tr>\n",
       "  </tbody>\n",
       "</table>\n",
       "<p>5 rows × 104 columns</p>\n",
       "</div>"
      ],
      "text/plain": [
       "      season_x            name  assists  bonus  bps  clean_sheets  creativity  \\\n",
       "20034  2020-21  Aaron Connolly        0      0   -3             0         0.3   \n",
       "20459  2020-21  Aaron Connolly        0      2   27             1        11.3   \n",
       "20998  2020-21  Aaron Connolly        0      0    2             0        12.1   \n",
       "21552  2020-21  Aaron Connolly        0      0    7             0         0.3   \n",
       "22114  2020-21  Aaron Connolly        1      0   13             0        10.3   \n",
       "\n",
       "       element  fixture  goals_conceded  ...  opp_Sunderland  opp_Swansea  \\\n",
       "20034       78        7               2  ...           False        False   \n",
       "20459       78       16               0  ...           False        False   \n",
       "20998       78       19               2  ...           False        False   \n",
       "21552       78       32               3  ...           False        False   \n",
       "22114       78       40               0  ...           False        False   \n",
       "\n",
       "       opp_Watford opp_West Brom  opp_West Ham  opp_Wolves  is_GK  is_DEF  \\\n",
       "20034        False         False         False       False      0       0   \n",
       "20459        False         False         False       False      0       0   \n",
       "20998        False         False         False       False      0       0   \n",
       "21552        False         False         False       False      0       0   \n",
       "22114        False         False         False       False      0       0   \n",
       "\n",
       "       is_MID  is_FWD  \n",
       "20034       0       1  \n",
       "20459       0       1  \n",
       "20998       0       1  \n",
       "21552       0       1  \n",
       "22114       0       1  \n",
       "\n",
       "[5 rows x 104 columns]"
      ]
     },
     "execution_count": 202,
     "metadata": {},
     "output_type": "execute_result"
    }
   ],
   "source": [
    "df.head()"
   ]
  },
  {
   "cell_type": "markdown",
   "id": "aa56e0dd-d141-41c3-9066-27201e9bd069",
   "metadata": {},
   "source": [
    "- Voici ce qui se passe avec shift(1) en pandas :\n",
    "\n",
    "    Ça décale toutes les valeurs d’une série ou d’une colonne vers le bas.\n",
    "\n",
    "    La première ligne devient NaN, car il n’y a rien \"au-dessus\" d’elle.\n",
    "\n",
    "    Les dernières lignes ne sont pas supprimées → elles restent, mais leur ancienne valeur a été décalée plus bas. Donc la dernière ligne va contenir NaN uniquement si tu décalais vers le haut (shift(-1)), pas avec shift(1).\n",
    "\n",
    "    La derniere ligne n’a pas disparu, il a juste été décalé hors de la \"fenêtre\" visible quand tu as fait shift(1).\n",
    "\n",
    "- En gros, pour calculer la moyenne d’un joueur à la journée j, on ne prend pas sa valeur actuelle, mais ses performances précédentes (on regarde en arrière)."
   ]
  },
  {
   "cell_type": "code",
   "execution_count": 203,
   "id": "33c5c35d-38b6-4f88-95a8-1df45e9ecac7",
   "metadata": {},
   "outputs": [],
   "source": [
    "# Season-wise rolling form (exclude current GW)\n",
    "def last_n_avg(s, n=3):\n",
    "    return s.shift(1).rolling(n, min_periods=1).mean()"
   ]
  },
  {
   "cell_type": "markdown",
   "id": "261513b5-32db-432e-a6f8-4bcd990f223e",
   "metadata": {},
   "source": [
    "- To avoid this error :\n",
    "\n",
    "    (TypeError: incompatible index of inserted column with frame index) is very common when using groupby().apply(...) and then trying to assign the result back to the dataframe.\n",
    "\n",
    "    groupby().apply(...) can return a Series with a MultiIndex ((name, season_x, row_index)) , while your dataframe df has just a normal RangeIndex or single index.\n",
    "\n",
    "- Instead of .apply(...), use .transform(...):\n",
    "\n",
    "    transform keeps the same index as the original dataframe.\n",
    "\n",
    "    Perfect for adding new columns that align row by row."
   ]
  },
  {
   "cell_type": "code",
   "execution_count": 204,
   "id": "53dcd636-3691-42c9-8f39-2f874f4e3725",
   "metadata": {},
   "outputs": [],
   "source": [
    "# Total points of last 3 / 5 games\n",
    "\n",
    "df['form_l3'] = df.groupby(['name','season_x'])['total_points'].transform(lambda s: last_n_avg(s,3))\n",
    "\n",
    "df['form_l5'] = df.groupby(['name','season_x'])['total_points'].transform(lambda s: last_n_avg(s,5))"
   ]
  },
  {
   "cell_type": "markdown",
   "id": "2a937941-b451-4327-9ef9-fddea14818bf",
   "metadata": {},
   "source": [
    "    🔹 .expanding(min_periods=1)\n",
    "\n",
    "Imagine une \"fenêtre\" qui grandit au fur et à mesure.\n",
    "\n",
    "Contrairement à .rolling(n), qui prend toujours les n dernières valeurs,\n",
    ".expanding() prend toutes les valeurs depuis le début jusqu’à la ligne actuelle.\n",
    "\n",
    "Donc season_avg_so_far = la moyenne cumulative des points d’un joueur dans la saison, sans compter le match actuel."
   ]
  },
  {
   "cell_type": "code",
   "execution_count": 205,
   "id": "701e0749-37f6-470c-8d67-fd461e9d4e4e",
   "metadata": {},
   "outputs": [],
   "source": [
    "# Season average up to previous GW\n",
    "df['season_avg_so_far'] = df.groupby(['name','season_x'])['total_points'].transform(\n",
    "    lambda s: s.shift(1).expanding(min_periods=1).mean()\n",
    ")"
   ]
  },
  {
   "cell_type": "code",
   "execution_count": 206,
   "id": "a2ccbe0e-487d-4f57-abae-8d2b60b1051b",
   "metadata": {},
   "outputs": [],
   "source": [
    "# Global (career) average up to previous row\n",
    "df['career_avg_so_far']=df.groupby(['name'])['total_points']\\\n",
    "    .transform(lambda s: s.shift(1).expanding(min_periods=1).mean())"
   ]
  },
  {
   "cell_type": "markdown",
   "id": "19d98601-ae67-47d0-b9d9-9772c22b8463",
   "metadata": {},
   "source": [
    "- Team signal (scaled goal difference this season to date — simple proxy of strength)\n",
    "-  Use cumulative up to previous GW in the season if available, else 0"
   ]
  },
  {
   "cell_type": "code",
   "execution_count": 207,
   "id": "84e2d5f1-f813-4466-9573-c854dabcd157",
   "metadata": {},
   "outputs": [],
   "source": [
    "for col in ['team_goals_diff']:\n",
    "    if col not in df.columns:\n",
    "        df[col] = 0.0\n",
    "\n"
   ]
  },
  {
   "cell_type": "markdown",
   "id": "a5640de6-50fd-466d-834d-90254b341d07",
   "metadata": {},
   "source": [
    "- This is usually team goals scored − team goals conceded in a match (the goal difference).\n",
    "- Example: if Manchester City wins 3–1, then team_goals_diff = +2. If they lose 0–2, then team_goals_diff = -2.\n",
    "- For player X in season Y, at match i, this feature says:\n",
    "“What was my team’s average goal difference in all games before this one?”"
   ]
  },
  {
   "cell_type": "code",
   "execution_count": 208,
   "id": "2ebf7d28-0f85-41a7-a3cf-2a9730799a7f",
   "metadata": {},
   "outputs": [],
   "source": [
    "df['team_diff_so_far'] = df.groupby(['name','season_x'])['team_goals_diff']\\\n",
    "    .transform(lambda s: s.shift(1).expanding(min_periods=1).mean())"
   ]
  },
  {
   "cell_type": "code",
   "execution_count": 209,
   "id": "8e98a26f-e813-4265-a813-fcfa7cc67ce2",
   "metadata": {},
   "outputs": [
    {
     "data": {
      "text/plain": [
       "20034         NaN\n",
       "20459   -2.000000\n",
       "20998   -0.500000\n",
       "21552   -0.333333\n",
       "22114   -0.750000\n",
       "22701   -1.000000\n",
       "23291   -1.166667\n",
       "23888   -1.428571\n",
       "24488   -1.625000\n",
       "25089   -1.666667\n",
       "Name: team_diff_so_far, dtype: float64"
      ]
     },
     "execution_count": 209,
     "metadata": {},
     "output_type": "execute_result"
    }
   ],
   "source": [
    "df['team_diff_so_far'].head(10)"
   ]
  },
  {
   "cell_type": "code",
   "execution_count": 210,
   "id": "f102fe93-ca65-4864-8260-0fa40fc54599",
   "metadata": {},
   "outputs": [
    {
     "data": {
      "text/plain": [
       "3658"
      ]
     },
     "execution_count": 210,
     "metadata": {},
     "output_type": "execute_result"
    }
   ],
   "source": [
    "df['team_diff_so_far'].isna().sum()"
   ]
  },
  {
   "cell_type": "markdown",
   "id": "45a5e2b1-797c-4a7a-b0d4-cfab9ec9664c",
   "metadata": {},
   "source": [
    "- Step by step:\n",
    "\n",
    "td = df['team_diff_so_far'].fillna(0)\n",
    "\n",
    "- The feature team_diff_so_far was calculated earlier (average goal difference of the player’s team up to now).\n",
    "\n",
    "- Sometimes it has NaN (especially at the very beginning of a season when there’s no past data).\n",
    "\n",
    "- fillna(0) replaces missing values with 0, meaning \"neutral / no signal yet.\"\n",
    "\n",
    "(td - td.mean())\n",
    "\n",
    "- This centers the values around 0 by subtracting the mean of the column.\n",
    "\n",
    "- If a team usually has a goal difference of +5, then a current +10 is \"above average\", while +2 is \"below average\".\n",
    "\n",
    "/ (td.std() + 1e-6)\n",
    "\n",
    "- Divides by the standard deviation to scale the values.\n",
    "\n",
    "- This makes the feature comparable across different ranges (normalization).\n",
    "\n",
    "+ 1e-6 is just a tiny number added to avoid division by zero errors.\n",
    "\n",
    "Result → team_signal\n",
    "\n",
    "- Now, the feature is standardized:\n",
    "\n",
    "- Positive values (>0) mean the team is performing above average compared to itself.\n",
    "\n",
    "- Negative values (<0) mean the team is performing below average.\n",
    "\n",
    "- Because it’s normalized, most values fall between -1 and 1 (not always exactly, but roughly).\n",
    "\n",
    "👉 Why do this?\n",
    "Because ML models work better when features are normalized. Instead of giving the model raw numbers like team_diff_so_far = 15 or -8, we give it a relative signal that shows how strong/weak the team looks compared to average."
   ]
  },
  {
   "cell_type": "code",
   "execution_count": 211,
   "id": "27d132d2-83de-4f80-a80c-129d99fb659e",
   "metadata": {},
   "outputs": [],
   "source": [
    "# Normalize team_diff_so_far roughly to ~[-1, 1]\n",
    "# Because ML models work better when features are normalized.\n",
    "\n",
    "td = df['team_diff_so_far'].fillna(0)\n",
    "df['team_signal'] = (td-td.mean()) / (td.std() + 1e-6)\n"
   ]
  },
  {
   "cell_type": "code",
   "execution_count": 212,
   "id": "088e8868-69e8-4f89-83d9-3a36a267d7f3",
   "metadata": {},
   "outputs": [
    {
     "data": {
      "text/plain": [
       "20034    0.026745\n",
       "20459   -0.193160\n",
       "20998   -0.028231\n",
       "21552   -0.009906\n",
       "22114   -0.055719\n",
       "22701   -0.083207\n",
       "23291   -0.101533\n",
       "23888   -0.130330\n",
       "24488   -0.151928\n",
       "25089   -0.156509\n",
       "Name: team_signal, dtype: float64"
      ]
     },
     "execution_count": 212,
     "metadata": {},
     "output_type": "execute_result"
    }
   ],
   "source": [
    "df['team_signal'].head(10)"
   ]
  },
  {
   "cell_type": "markdown",
   "id": "f14c8f8d-7ab5-45be-9297-3a3e28571abd",
   "metadata": {},
   "source": [
    "- Expected points blend (tweak weights as you like)\n",
    "- Priority: recent form > season avg > career avg, with a tiny team context signal"
   ]
  },
  {
   "cell_type": "code",
   "execution_count": 213,
   "id": "9e9ddb8a-9153-46d9-ae14-d9a607a31fb5",
   "metadata": {},
   "outputs": [],
   "source": [
    "def blend(row) : \n",
    "    candidates = [\n",
    "        row['form_l3'],\n",
    "        row['season_avg_so_far'],\n",
    "        row['career_avg_so_far']\n",
    "    ]\n",
    "    # Fill fallbacks\n",
    "    vals = [v for v in candidates if pd.notnull(v)]\n",
    "    base = np.average(vals,weights=[0.6,0.3,0.1][:len(vals)]) if len(vals) else 0.0\n",
    "    return base + 0.15 * row['team_signal']\n",
    "\n",
    "df['expected_points'] = df.apply(blend,axis=1).clip(lower=0.0)"
   ]
  },
  {
   "cell_type": "markdown",
   "id": "3c3a825c-0db7-4223-a653-9e942a7e32e2",
   "metadata": {},
   "source": [
    "- return base + 0.15 * row['team_signal'] → :\n",
    "\n",
    "base is the weighted personal form of the player.\n",
    "\n",
    "team_signal = some metric about the team’s strength (like average goal difference, or expected goals).\n",
    "\n",
    "Adding 0.15 * team_signal means we also adjust the prediction by the team’s current trend → a weak player in a strong attacking team will still have more chances to score points.\n",
    "\n",
    "- .clip(lower=0.0) → ensures expected points can’t go below 0 : \n",
    "\n",
    "Example: if base was very negative or team_signal negative (maybe team is in terrible form), we don’t want negative points prediction (nonsense).\n",
    "\n",
    "So, everything < 0 becomes 0.0.\n",
    "\n",
    "- ✅ Why this formula?\n",
    "\n",
    "Most weight on short-term form.\n",
    "\n",
    "Some stabilizer from season and career averages.\n",
    "\n",
    "Small positive or negative adjustment from team strength.\n",
    "\n",
    "Never predict below 0 points."
   ]
  },
  {
   "cell_type": "markdown",
   "id": "ebd49e90-52c4-4517-9be2-96e801350d1e",
   "metadata": {},
   "source": [
    "### --- 5) Candidate pool for the target GW ---------------------------------------\n"
   ]
  },
  {
   "cell_type": "code",
   "execution_count": 214,
   "id": "9dbe4afc-71b9-4855-90d7-9dcb544f8d6e",
   "metadata": {},
   "outputs": [],
   "source": [
    "pool = df[(df['season_x'] == TARGET_SEASON) & (df['GW'] == TARGET_GW)].copy()"
   ]
  },
  {
   "cell_type": "code",
   "execution_count": 216,
   "id": "29cb0df9-c92e-4086-892e-a8f5c2689cbc",
   "metadata": {},
   "outputs": [
    {
     "name": "stdout",
     "output_type": "stream",
     "text": [
      "is_GK      85\n",
      "is_DEF    238\n",
      "is_MID    314\n",
      "is_FWD     94\n",
      "dtype: int64\n"
     ]
    }
   ],
   "source": [
    "print(pool[['is_GK','is_DEF','is_MID','is_FWD']].sum())\n"
   ]
  },
  {
   "cell_type": "code",
   "execution_count": 217,
   "id": "eb456b73-6008-498f-861e-722a442975da",
   "metadata": {},
   "outputs": [],
   "source": [
    "# If expected_points ended up NaN (e.g., brand-new player), fall back to small prior\n",
    "pool['expected_points'] = pool['expected_points'].fillna(0.5)"
   ]
  },
  {
   "cell_type": "code",
   "execution_count": 218,
   "id": "ae2f302d-10b5-449d-b366-6308c79a804f",
   "metadata": {},
   "outputs": [
    {
     "data": {
      "text/plain": [
       "102939    4.5\n",
       "103103    4.2\n",
       "103196    4.5\n",
       "102907    4.8\n",
       "103368    5.0\n",
       "Name: value, dtype: float64"
      ]
     },
     "execution_count": 218,
     "metadata": {},
     "output_type": "execute_result"
    }
   ],
   "source": [
    "pool['value'].head()"
   ]
  },
  {
   "cell_type": "code",
   "execution_count": 219,
   "id": "0cc9627e-9bd1-4255-9207-5fa5fb29144f",
   "metadata": {},
   "outputs": [
    {
     "data": {
      "text/plain": [
       "0"
      ]
     },
     "execution_count": 219,
     "metadata": {},
     "output_type": "execute_result"
    }
   ],
   "source": [
    "pool['value'].isna().sum()"
   ]
  },
  {
   "cell_type": "code",
   "execution_count": 220,
   "id": "aad1b4b8-2cf7-4c07-aa3b-a0bf357c0745",
   "metadata": {},
   "outputs": [],
   "source": [
    "# Budget sanity\n",
    "if pool['value'].isnull().any():\n",
    "    pool['value'] = pool['value'].fillna(pool['value'].median())"
   ]
  },
  {
   "cell_type": "markdown",
   "id": "a94db0ed-bdee-4212-b431-391d9ab5c30c",
   "metadata": {},
   "source": [
    "### --- 6) Identify club columns for \"max 3 per club\" constraint -------------------\n"
   ]
  },
  {
   "cell_type": "code",
   "execution_count": 221,
   "id": "80ca8054-03d1-4f32-abe5-f9619900d839",
   "metadata": {},
   "outputs": [],
   "source": [
    "team_cols = [c for c in pool.columns if c.startswith('team_')]\n",
    "if not team_cols:\n",
    "    raise ValueError(\"No team_* one-hot columns found; needed for max-3-per-club constraint.\")"
   ]
  },
  {
   "cell_type": "markdown",
   "id": "831f1853-09e6-4004-8aa9-d4635cefb532",
   "metadata": {},
   "source": [
    "# --- 7) Build the optimization model -------------------------------------------\n"
   ]
  },
  {
   "cell_type": "markdown",
   "id": "65d847ee-9be2-4271-aa17-cfc46e0dcde5",
   "metadata": {},
   "source": [
    "- LpProblem = the optimization model container (the “problem” you give to the solver).\n",
    "\n",
    "- \"FPL_Team_Selection\" = just a name for the model (useful in logs).\n",
    "\n",
    "- LpMaximize = tells the solver we want to maximize some objective (e.g., total expected points). If you wanted a minimization problem you’d use LpMinimize.\n",
    "\n",
    "- a model (also called a mathematical optimization problem)."
   ]
  },
  {
   "cell_type": "markdown",
   "id": "60c60e7c-1c61-4f75-af80-178b9267e3e4",
   "metadata": {},
   "source": [
    "#### Build the problem :\n",
    "Think of prob (the LpProblem) as a container where you put:\n",
    "\n",
    "1 objective function (what you want to optimize)\n",
    "\n",
    "many constraints (rules the solution must follow)"
   ]
  },
  {
   "cell_type": "code",
   "execution_count": 265,
   "id": "87c65ef7-efc5-41ad-a28c-de356a870bed",
   "metadata": {},
   "outputs": [],
   "source": [
    "# Problem : Maximization \n",
    "prob = LpProblem(\"FPL_Team_Selection\",LpMaximize)\n"
   ]
  },
  {
   "cell_type": "markdown",
   "id": "2ddf1855-81c9-40a7-a0a8-5f465fbe56d7",
   "metadata": {},
   "source": [
    "- You’ll create one or more decision variables per player.\n",
    "\n",
    "- pool is the DataFrame of candidate rows (players for a given GW).\n",
    "\n",
    "- idx is the list of row indices you’ll loop over to define variables and constraints."
   ]
  },
  {
   "cell_type": "code",
   "execution_count": 223,
   "id": "aeabdaaa-22d5-49f9-aab5-8205af6bc452",
   "metadata": {},
   "outputs": [
    {
     "data": {
      "text/plain": [
       "Index([102939, 103103, 103196, 102907, 103368, 103344, 102997, 102809, 103293,\n",
       "       103044,\n",
       "       ...\n",
       "       103289, 103299, 102893, 102935, 103144, 102995, 103300, 103082, 103346,\n",
       "       102923],\n",
       "      dtype='int64', length=731)"
      ]
     },
     "execution_count": 223,
     "metadata": {},
     "output_type": "execute_result"
    }
   ],
   "source": [
    "pool.index"
   ]
  },
  {
   "cell_type": "code",
   "execution_count": 224,
   "id": "0c54275c-ddd6-4fc5-9067-8d01018a9c93",
   "metadata": {},
   "outputs": [],
   "source": [
    "idx = list(pool.index)"
   ]
  },
  {
   "cell_type": "markdown",
   "id": "244b8e48-b714-48e3-b79b-b0262b6929a6",
   "metadata": {},
   "source": [
    "- LpVariable = defines a decision variable in PuLP (the unknown the solver decides).\n",
    "\n",
    "- Creates a binary decision variable in_squad_i for each player i.\n",
    "\n",
    "- Binary ⇒ takes value 0 or 1.\n",
    "\n",
    "- Interpretation: in_squad_i = 1 if player i is selected in the 15-man squad; 0 otherwise.\n",
    "\n",
    "- lowBound=0, upBound=1 plus cat=LpBinary both enforce binary. (Technically cat=LpBinary is enough; the bounds are redundant but harmless.)\n",
    "\n",
    "- The comprehension {i: ... for i in idx} :\n",
    "\n",
    "{\n",
    "   idx[0]: LpVariable(\"in_squad_idx0\", 0, 1, LpBinary),\n",
    "   idx[1]: LpVariable(\"in_squad_idx1\", 0, 1, LpBinary),\n",
    "   ...\n",
    "}"
   ]
  },
  {
   "cell_type": "code",
   "execution_count": 225,
   "id": "3998d766-47d3-4d9e-a067-ceb0d1316f86",
   "metadata": {},
   "outputs": [],
   "source": [
    "# Binary: in 15-man squad?\n",
    "in_squad = {\n",
    "    i: LpVariable(f\"in_squad_{i}\",lowBound=0,upBound=1,cat=LpBinary) for i in idx\n",
    "}"
   ]
  },
  {
   "cell_type": "markdown",
   "id": "e7fc9354-4057-43b8-927c-db8343100d35",
   "metadata": {},
   "source": [
    "- Another binary decision variable is_start_i for each player.\n",
    "\n",
    "- Interpretation: is_start_i = 1 if player i is in the starting XI; 0 otherwise."
   ]
  },
  {
   "cell_type": "code",
   "execution_count": 226,
   "id": "797bc293-3055-4cee-a358-5a7f53cfc9b3",
   "metadata": {},
   "outputs": [],
   "source": [
    "# Binary: in 11 starters?\n",
    "\n",
    "is_start = {\n",
    "    i: LpVariable(f\"is_start{i}\",lowBound=0,upBound=1,cat=LpBinary) for i in idx\n",
    "}"
   ]
  },
  {
   "cell_type": "markdown",
   "id": "c73ed952-6808-4a0f-b6d1-2e3b541889c6",
   "metadata": {},
   "source": [
    "\n",
    "-> `Objective`: maximize starters' expected points + small bench value"
   ]
  },
  {
   "cell_type": "markdown",
   "id": "172a8b40-fd50-4221-af5d-53c08df7836f",
   "metadata": {},
   "source": [
    "#### Add objective function (what you want to optimize) :\n",
    "- += is just the syntax PuLP uses to add something into the container(prob).\n",
    "The first time you do:\n",
    "\n",
    "    prob += some_expression\n",
    "\n",
    "- → PuLP assumes this is the objective function.\n",
    "\n",
    "\n",
    "- is_start[i] and in_squad[i] : They aren’t 0 or 1 yet. At this stage they are just decision variables (LpVariable objects).\n",
    "\n",
    "- The solver’s job is to later decide their values (0 or 1) such that the objective is maximized and all constraints are respected.\n",
    "\n",
    "- For normal numbers → Python’s sum() or + is fine.\n",
    "\n",
    "- For LpVariables → PuLP needs to construct a linear expression object, not a plain number.\n",
    "\n",
    "- lpSum = ∑ (sigma in math).\n",
    "\n",
    "- Normal operators + - * / are allowed, but instead of real math they build a symbolic expression the solver can understand.\n",
    "\n",
    "- Even though is_start[i] is an LpVariable, PuLP overloads Python’s operators (+, -, *, /)."
   ]
  },
  {
   "cell_type": "code",
   "execution_count": 266,
   "id": "91c63360-445c-449d-9c24-4ba5f96f5817",
   "metadata": {},
   "outputs": [],
   "source": [
    "prob += lpSum(is_start[i]*pool.loc[i,'expected_points'] for i in idx) \\\n",
    "    + BENCH_WEIGHT*lpSum((in_squad[i]-is_start[i])*pool.loc[i,'expected_points'] for i in idx)"
   ]
  },
  {
   "cell_type": "markdown",
   "id": "acb9e9f6-07aa-4dde-a324-91677433d276",
   "metadata": {},
   "source": [
    "### Add Constraints"
   ]
  },
  {
   "cell_type": "code",
   "execution_count": 267,
   "id": "39e5dcdd-e680-4a74-b158-3c606c70c972",
   "metadata": {},
   "outputs": [],
   "source": [
    "# 7.1 Link starters must be in squad\n",
    "\n",
    "# if in_squad 0 is_start is 0 \n",
    "# if in_squad 1 is_start is 0 or 1\n",
    "for i in idx:\n",
    "    prob += is_start[i] <= in_squad[i]\n"
   ]
  },
  {
   "cell_type": "code",
   "execution_count": 268,
   "id": "c894131c-d645-4ed1-88f1-7533dfdf2d7b",
   "metadata": {},
   "outputs": [],
   "source": [
    "# 7.2 Squad size = 15; starters = 11\n",
    "\n",
    "prob += lpSum(in_squad[i] for i in idx) == 15\n",
    "prob += lpSum(is_start[i] for i in idx) == 11\n"
   ]
  },
  {
   "cell_type": "code",
   "execution_count": 269,
   "id": "ce5cebc9-2090-4ccc-b2f8-c7068186ecb6",
   "metadata": {},
   "outputs": [],
   "source": [
    "# 7.3 Squad position counts: GK=2, DEF=5, MID=5, FWD=3\n",
    "\n",
    "prob += lpSum(in_squad[i] * pool.loc[i,\"is_GK\"] for i in idx) == 2\n",
    "prob += lpSum(in_squad[i] * pool.loc[i,\"is_DEF\"] for i in idx) == 5\n",
    "prob += lpSum(in_squad[i] * pool.loc[i,\"is_MID\"] for i in idx) == 5\n",
    "prob += lpSum(in_squad[i] * pool.loc[i,\"is_FWD\"] for i in idx) == 3"
   ]
  },
  {
   "cell_type": "code",
   "execution_count": 273,
   "id": "d8bf28d3-7ccf-4db6-aa05-cdcd3749105d",
   "metadata": {},
   "outputs": [],
   "source": [
    "# 7.4 Starters formation constraints: 1 GK; DEF 3–5; MID 2–5; FWD 1–3\n",
    "\n",
    "prob += lpSum(is_start[i] * pool.loc[i,'is_GK'] for i in idx) == 1\n",
    "prob += lpSum(is_start[i] * pool.loc[i,'is_DEF'] for i in idx) >= MIN_DEF_STARTERS\n",
    "prob += lpSum(is_start[i] * pool.loc[i,'is_DEF'] for i in idx) <= MAX_DEF_STARTERS\n",
    "prob += lpSum(is_start[i] * pool.loc[i,'is_MID'] for i in idx) >= MIN_MID_STARTERS\n",
    "prob += lpSum(is_start[i] * pool.loc[i,'is_MID'] for i in idx) <= MAX_MID_STARTERS\n",
    "prob += lpSum(is_start[i] * pool.loc[i, 'is_FWD'] for i in idx) >= MIN_FWD_STARTERS\n",
    "prob += lpSum(is_start[i] * pool.loc[i, 'is_FWD'] for i in idx) <= MAX_FWD_STARTERS\n"
   ]
  },
  {
   "cell_type": "code",
   "execution_count": 277,
   "id": "d56f5292-a213-4506-b0e7-e026109878b9",
   "metadata": {},
   "outputs": [],
   "source": [
    "# 7.5 Budget\n",
    "\n",
    "prob += lpSum(in_squad[i] * pool.loc[i,'value'] for i in idx) <= BUDGET_MILLIONS\n"
   ]
  },
  {
   "cell_type": "code",
   "execution_count": 233,
   "id": "6f8a33a3-add3-480f-965b-853720e1201c",
   "metadata": {},
   "outputs": [
    {
     "data": {
      "text/plain": [
       "team_a_score           0\n",
       "team_h_score           0\n",
       "team_goals_scored      0\n",
       "team_goals_conceded    0\n",
       "team_goals_diff        0\n",
       "team_Arsenal           0\n",
       "team_Aston Villa       0\n",
       "team_Bournemouth       0\n",
       "team_Brentford         0\n",
       "team_Brighton          0\n",
       "team_Burnley           0\n",
       "team_Chelsea           0\n",
       "team_Crystal Palace    0\n",
       "team_Everton           0\n",
       "team_Fulham            0\n",
       "team_Leeds             0\n",
       "team_Leicester         0\n",
       "team_Liverpool         0\n",
       "team_Luton             0\n",
       "team_Man City          0\n",
       "team_Man Utd           0\n",
       "team_Newcastle         0\n",
       "team_Norwich           0\n",
       "team_Nott'm Forest     0\n",
       "team_Sheffield Utd     0\n",
       "team_Southampton       0\n",
       "team_Spurs             0\n",
       "team_Watford           0\n",
       "team_West Brom         0\n",
       "team_West Ham          0\n",
       "team_Wolves            0\n",
       "team_diff_so_far       1\n",
       "team_signal            0\n",
       "dtype: int64"
      ]
     },
     "execution_count": 233,
     "metadata": {},
     "output_type": "execute_result"
    }
   ],
   "source": [
    "pool[team_cols].isna().sum()"
   ]
  },
  {
   "cell_type": "code",
   "execution_count": 234,
   "id": "9a7bb1a6-66d0-40d1-9dd5-d2212ed94c1d",
   "metadata": {},
   "outputs": [],
   "source": [
    "team_cols = [tc for tc in team_cols if tc not in ['team_diff_so_far','team_signal']]"
   ]
  },
  {
   "cell_type": "code",
   "execution_count": 235,
   "id": "fb052e77-b79a-465f-b001-3595fb58fd4b",
   "metadata": {},
   "outputs": [
    {
     "data": {
      "text/plain": [
       "team_a_score           0\n",
       "team_h_score           0\n",
       "team_goals_scored      0\n",
       "team_goals_conceded    0\n",
       "team_goals_diff        0\n",
       "team_Arsenal           0\n",
       "team_Aston Villa       0\n",
       "team_Bournemouth       0\n",
       "team_Brentford         0\n",
       "team_Brighton          0\n",
       "team_Burnley           0\n",
       "team_Chelsea           0\n",
       "team_Crystal Palace    0\n",
       "team_Everton           0\n",
       "team_Fulham            0\n",
       "team_Leeds             0\n",
       "team_Leicester         0\n",
       "team_Liverpool         0\n",
       "team_Luton             0\n",
       "team_Man City          0\n",
       "team_Man Utd           0\n",
       "team_Newcastle         0\n",
       "team_Norwich           0\n",
       "team_Nott'm Forest     0\n",
       "team_Sheffield Utd     0\n",
       "team_Southampton       0\n",
       "team_Spurs             0\n",
       "team_Watford           0\n",
       "team_West Brom         0\n",
       "team_West Ham          0\n",
       "team_Wolves            0\n",
       "dtype: int64"
      ]
     },
     "execution_count": 235,
     "metadata": {},
     "output_type": "execute_result"
    }
   ],
   "source": [
    "pool[team_cols].isna().sum()"
   ]
  },
  {
   "cell_type": "code",
   "execution_count": 253,
   "id": "d780050e-9ed3-4783-b500-a619d769dea6",
   "metadata": {},
   "outputs": [],
   "source": [
    "# 7.6 Max 3 per club (apply to the 15-man squad)\n",
    "#for tcol in team_cols:\n",
    "#    prob += lpSum(in_squad[i] * pool.loc[i, tcol] for i in idx) <=3"
   ]
  },
  {
   "cell_type": "markdown",
   "id": "2e75a6e6-ba1c-4afc-b872-6b5ee44b0cfe",
   "metadata": {},
   "source": [
    "### --- 8) Solve -------------------------------------------------------------------\n",
    "1) prob.solve(...)\n",
    "\n",
    "- prob is your model (created with LpProblem).\n",
    "\n",
    "- .solve() → tells PuLP: “Now hand this optimization model to a solver, let it compute the best solution, and store the result inside prob and its variables.”\n",
    "\n",
    "- So after this line, every decision variable (in_squad[i], is_start[i], etc.) now has a chosen value (0 or 1).\n",
    "\n",
    "\n",
    "2) PULP_CBC_CMD(...)\n",
    "\n",
    "- This is a solver interface provided by PuLP.\n",
    "\n",
    "- CBC = “Coin-or branch and cut” → an open-source optimization solver.\n",
    "\n",
    "- PULP_CBC_CMD is just the Python wrapper class that lets you run CBC from PuLP.\n",
    "\n",
    "👉 In short:\n",
    "PULP_CBC_CMD = solver type (the actual algorithm that finds the solution).\n",
    "\n",
    "3) msg=False\n",
    "\n",
    "- Solvers normally print a lot of logs to the console (iterations, branching, etc.).\n",
    "\n",
    "- msg=False → disables those messages → cleaner output.\n",
    "\n",
    "- If you set msg=True, you’d see the solver’s progress printed."
   ]
  },
  {
   "cell_type": "code",
   "execution_count": 278,
   "id": "97f7c293-9bf9-44b1-bea3-065d4a5f7ef0",
   "metadata": {},
   "outputs": [],
   "source": [
    "_ = prob.solve(PULP_CBC_CMD(msg=False))"
   ]
  },
  {
   "cell_type": "code",
   "execution_count": 279,
   "id": "73f0726c-b776-48f7-884e-1f35966c1936",
   "metadata": {},
   "outputs": [
    {
     "name": "stdout",
     "output_type": "stream",
     "text": [
      "Solver status: Optimal\n"
     ]
    }
   ],
   "source": [
    "from pulp import LpStatus\n",
    "print(\"Solver status:\", LpStatus[prob.status])\n"
   ]
  },
  {
   "cell_type": "markdown",
   "id": "023dbf6e-aab7-4556-86aa-414e0fba5aa4",
   "metadata": {},
   "source": [
    "### --- 9) Extract solution --------------------------------------------------------\n"
   ]
  },
  {
   "cell_type": "code",
   "execution_count": 280,
   "id": "ba7427f8-9d05-4b02-8a2b-5718bded4fcb",
   "metadata": {},
   "outputs": [
    {
     "name": "stdout",
     "output_type": "stream",
     "text": [
      "=== Starters (11) ===\n"
     ]
    },
    {
     "data": {
      "text/html": [
       "<div>\n",
       "<style scoped>\n",
       "    .dataframe tbody tr th:only-of-type {\n",
       "        vertical-align: middle;\n",
       "    }\n",
       "\n",
       "    .dataframe tbody tr th {\n",
       "        vertical-align: top;\n",
       "    }\n",
       "\n",
       "    .dataframe thead th {\n",
       "        text-align: right;\n",
       "    }\n",
       "</style>\n",
       "<table border=\"1\" class=\"dataframe\">\n",
       "  <thead>\n",
       "    <tr style=\"text-align: right;\">\n",
       "      <th></th>\n",
       "      <th>pos</th>\n",
       "      <th>name</th>\n",
       "      <th>season_x</th>\n",
       "      <th>GW</th>\n",
       "      <th>expected_points</th>\n",
       "      <th>total_points</th>\n",
       "      <th>minutes</th>\n",
       "    </tr>\n",
       "  </thead>\n",
       "  <tbody>\n",
       "    <tr>\n",
       "      <th>102981</th>\n",
       "      <td>DEF</td>\n",
       "      <td>Kieran Trippier</td>\n",
       "      <td>2023-24</td>\n",
       "      <td>10</td>\n",
       "      <td>7.989498</td>\n",
       "      <td>0</td>\n",
       "      <td>90</td>\n",
       "    </tr>\n",
       "    <tr>\n",
       "      <th>102754</th>\n",
       "      <td>DEF</td>\n",
       "      <td>Benjamin White</td>\n",
       "      <td>2023-24</td>\n",
       "      <td>10</td>\n",
       "      <td>6.619633</td>\n",
       "      <td>6</td>\n",
       "      <td>65</td>\n",
       "    </tr>\n",
       "    <tr>\n",
       "      <th>102924</th>\n",
       "      <td>DEF</td>\n",
       "      <td>Micky van de Ven</td>\n",
       "      <td>2023-24</td>\n",
       "      <td>10</td>\n",
       "      <td>6.491742</td>\n",
       "      <td>2</td>\n",
       "      <td>90</td>\n",
       "    </tr>\n",
       "    <tr>\n",
       "      <th>102953</th>\n",
       "      <td>DEF</td>\n",
       "      <td>Joachim Andersen</td>\n",
       "      <td>2023-24</td>\n",
       "      <td>10</td>\n",
       "      <td>6.189119</td>\n",
       "      <td>3</td>\n",
       "      <td>90</td>\n",
       "    </tr>\n",
       "    <tr>\n",
       "      <th>102789</th>\n",
       "      <td>FWD</td>\n",
       "      <td>Ollie Watkins</td>\n",
       "      <td>2023-24</td>\n",
       "      <td>10</td>\n",
       "      <td>10.623603</td>\n",
       "      <td>2</td>\n",
       "      <td>90</td>\n",
       "    </tr>\n",
       "    <tr>\n",
       "      <th>103118</th>\n",
       "      <td>FWD</td>\n",
       "      <td>Julián Álvarez</td>\n",
       "      <td>2023-24</td>\n",
       "      <td>10</td>\n",
       "      <td>6.191041</td>\n",
       "      <td>2</td>\n",
       "      <td>86</td>\n",
       "    </tr>\n",
       "    <tr>\n",
       "      <th>102965</th>\n",
       "      <td>GK</td>\n",
       "      <td>Sam Johnstone</td>\n",
       "      <td>2023-24</td>\n",
       "      <td>10</td>\n",
       "      <td>5.349623</td>\n",
       "      <td>1</td>\n",
       "      <td>90</td>\n",
       "    </tr>\n",
       "    <tr>\n",
       "      <th>103297</th>\n",
       "      <td>MID</td>\n",
       "      <td>Mohamed Salah</td>\n",
       "      <td>2023-24</td>\n",
       "      <td>10</td>\n",
       "      <td>9.701604</td>\n",
       "      <td>8</td>\n",
       "      <td>90</td>\n",
       "    </tr>\n",
       "    <tr>\n",
       "      <th>102851</th>\n",
       "      <td>MID</td>\n",
       "      <td>Son Heung-min</td>\n",
       "      <td>2023-24</td>\n",
       "      <td>10</td>\n",
       "      <td>7.648716</td>\n",
       "      <td>10</td>\n",
       "      <td>90</td>\n",
       "    </tr>\n",
       "    <tr>\n",
       "      <th>102834</th>\n",
       "      <td>MID</td>\n",
       "      <td>Douglas Luiz Soares de Paulo</td>\n",
       "      <td>2023-24</td>\n",
       "      <td>10</td>\n",
       "      <td>6.967505</td>\n",
       "      <td>7</td>\n",
       "      <td>89</td>\n",
       "    </tr>\n",
       "    <tr>\n",
       "      <th>103261</th>\n",
       "      <td>MID</td>\n",
       "      <td>Martin Ødegaard</td>\n",
       "      <td>2023-24</td>\n",
       "      <td>10</td>\n",
       "      <td>6.514523</td>\n",
       "      <td>0</td>\n",
       "      <td>0</td>\n",
       "    </tr>\n",
       "  </tbody>\n",
       "</table>\n",
       "</div>"
      ],
      "text/plain": [
       "        pos                          name season_x  GW  expected_points  \\\n",
       "102981  DEF               Kieran Trippier  2023-24  10         7.989498   \n",
       "102754  DEF                Benjamin White  2023-24  10         6.619633   \n",
       "102924  DEF              Micky van de Ven  2023-24  10         6.491742   \n",
       "102953  DEF              Joachim Andersen  2023-24  10         6.189119   \n",
       "102789  FWD                 Ollie Watkins  2023-24  10        10.623603   \n",
       "103118  FWD                Julián Álvarez  2023-24  10         6.191041   \n",
       "102965   GK                 Sam Johnstone  2023-24  10         5.349623   \n",
       "103297  MID                 Mohamed Salah  2023-24  10         9.701604   \n",
       "102851  MID                 Son Heung-min  2023-24  10         7.648716   \n",
       "102834  MID  Douglas Luiz Soares de Paulo  2023-24  10         6.967505   \n",
       "103261  MID               Martin Ødegaard  2023-24  10         6.514523   \n",
       "\n",
       "        total_points  minutes  \n",
       "102981             0       90  \n",
       "102754             6       65  \n",
       "102924             2       90  \n",
       "102953             3       90  \n",
       "102789             2       90  \n",
       "103118             2       86  \n",
       "102965             1       90  \n",
       "103297             8       90  \n",
       "102851            10       90  \n",
       "102834             7       89  \n",
       "103261             0        0  "
      ]
     },
     "metadata": {},
     "output_type": "display_data"
    },
    {
     "name": "stdout",
     "output_type": "stream",
     "text": [
      "\n",
      "=== Bench (4) ===\n"
     ]
    },
    {
     "data": {
      "text/html": [
       "<div>\n",
       "<style scoped>\n",
       "    .dataframe tbody tr th:only-of-type {\n",
       "        vertical-align: middle;\n",
       "    }\n",
       "\n",
       "    .dataframe tbody tr th {\n",
       "        vertical-align: top;\n",
       "    }\n",
       "\n",
       "    .dataframe thead th {\n",
       "        text-align: right;\n",
       "    }\n",
       "</style>\n",
       "<table border=\"1\" class=\"dataframe\">\n",
       "  <thead>\n",
       "    <tr style=\"text-align: right;\">\n",
       "      <th></th>\n",
       "      <th>pos</th>\n",
       "      <th>name</th>\n",
       "      <th>season_x</th>\n",
       "      <th>GW</th>\n",
       "      <th>expected_points</th>\n",
       "      <th>total_points</th>\n",
       "      <th>minutes</th>\n",
       "    </tr>\n",
       "  </thead>\n",
       "  <tbody>\n",
       "    <tr>\n",
       "      <th>102855</th>\n",
       "      <td>DEF</td>\n",
       "      <td>Pedro Porro</td>\n",
       "      <td>2023-24</td>\n",
       "      <td>10</td>\n",
       "      <td>5.553708</td>\n",
       "      <td>2</td>\n",
       "      <td>90</td>\n",
       "    </tr>\n",
       "    <tr>\n",
       "      <th>102893</th>\n",
       "      <td>FWD</td>\n",
       "      <td>Yoane Wissa</td>\n",
       "      <td>2023-24</td>\n",
       "      <td>10</td>\n",
       "      <td>4.714238</td>\n",
       "      <td>2</td>\n",
       "      <td>75</td>\n",
       "    </tr>\n",
       "    <tr>\n",
       "      <th>103033</th>\n",
       "      <td>GK</td>\n",
       "      <td>Guglielmo Vicario</td>\n",
       "      <td>2023-24</td>\n",
       "      <td>10</td>\n",
       "      <td>5.180631</td>\n",
       "      <td>3</td>\n",
       "      <td>90</td>\n",
       "    </tr>\n",
       "    <tr>\n",
       "      <th>103238</th>\n",
       "      <td>MID</td>\n",
       "      <td>Hwang Hee-chan</td>\n",
       "      <td>2023-24</td>\n",
       "      <td>10</td>\n",
       "      <td>5.951396</td>\n",
       "      <td>7</td>\n",
       "      <td>90</td>\n",
       "    </tr>\n",
       "  </tbody>\n",
       "</table>\n",
       "</div>"
      ],
      "text/plain": [
       "        pos               name season_x  GW  expected_points  total_points  \\\n",
       "102855  DEF        Pedro Porro  2023-24  10         5.553708             2   \n",
       "102893  FWD        Yoane Wissa  2023-24  10         4.714238             2   \n",
       "103033   GK  Guglielmo Vicario  2023-24  10         5.180631             3   \n",
       "103238  MID     Hwang Hee-chan  2023-24  10         5.951396             7   \n",
       "\n",
       "        minutes  \n",
       "102855       90  \n",
       "102893       75  \n",
       "103033       90  \n",
       "103238       90  "
      ]
     },
     "metadata": {},
     "output_type": "display_data"
    },
    {
     "name": "stdout",
     "output_type": "stream",
     "text": [
      "\n",
      "Budget spent: 100.0 / 100.0M\n",
      "Expected points (starters): 80.29\n",
      "Expected points (bench * 0.1): 2.14 (raw bench 21.40)\n"
     ]
    }
   ],
   "source": [
    "pool['in_squad'] = [int(in_squad[i].value()) for i in idx]\n",
    "pool['is_start'] = [int(is_start[i].value()) for i in idx]\n",
    "\n",
    "squad = pool[pool['in_squad'] == 1].copy()\n",
    "starters = squad[squad['is_start'] == 1].copy()\n",
    "bench = squad[squad['is_start'] == 0].copy()\n",
    "\n",
    "def pretty_columns(df_):\n",
    "    cols = ['name','season_x','GW','value_m','expected_points','total_points','minutes']\n",
    "    # add simple human position label\n",
    "    df_ = df_.copy()\n",
    "    df_['pos'] = np.select(\n",
    "        [df_['is_GK']==1, df_['is_DEF']==1, df_['is_MID']==1, df_['is_FWD']==1],\n",
    "        ['GK','DEF','MID','FWD']\n",
    "    )\n",
    "    keep = [c for c in cols if c in df_.columns]\n",
    "    return df_[['pos'] + keep].sort_values(['pos','expected_points'], ascending=[True,False])\n",
    "\n",
    "print(\"=== Starters (11) ===\")\n",
    "display(pretty_columns(starters))\n",
    "\n",
    "print(\"\\n=== Bench (4) ===\")\n",
    "display(pretty_columns(bench))\n",
    "\n",
    "spent = squad['value'].sum()\n",
    "exp_pts_start = starters['expected_points'].sum()\n",
    "exp_pts_bench = bench['expected_points'].sum()\n",
    "print(f\"\\nBudget spent: {spent:.1f} / {BUDGET_MILLIONS:.1f}M\")\n",
    "print(f\"Expected points (starters): {exp_pts_start:.2f}\")\n",
    "print(f\"Expected points (bench * {BENCH_WEIGHT}): {(BENCH_WEIGHT*exp_pts_bench):.2f} (raw bench {exp_pts_bench:.2f})\")"
   ]
  },
  {
   "cell_type": "code",
   "execution_count": 256,
   "id": "9eec4ddd-aee3-42b2-bfb2-664799a2604b",
   "metadata": {},
   "outputs": [
    {
     "data": {
      "text/plain": [
       "array([ 4.5,  4.2,  4.5,  4.8,  5. ,  4.4,  5.5,  4. ,  4. ,  4.9,  4.4,\n",
       "        4.3,  4.9,  4.5,  4.5,  4. ,  4. ,  4.9,  4.7,  5.4,  7.4,  5.4,\n",
       "        4.5,  4.4,  3.9,  4.9,  4.5,  7.5,  5. ,  5.9,  4.4,  4. ,  3.9,\n",
       "        5.5,  4.9,  6. ,  4.2,  4. ,  4.4,  4.8,  3.9,  4. ,  4.8,  4.4,\n",
       "        4.5,  5.5,  4.5,  6.5,  4.4,  5. ,  4.8,  4.4,  4. ,  4.3,  4.4,\n",
       "        4.7,  6.5,  5. ,  5.7,  4.4,  6.5,  4.5,  4.5,  6.8,  4.5,  4.5,\n",
       "        4.3,  4.9,  5.4,  4. ,  4.4,  3.9,  5.1,  4.9,  4. ,  4.4,  4. ,\n",
       "        5.4,  4.3,  4.4,  4.3,  4. ,  4.4,  4.8,  4.8,  4.5,  4. ,  5.6,\n",
       "        4.4,  6.3,  4.7,  5. ,  4.9,  4.5,  5.5,  4. ,  5. ,  4.4,  4.5,\n",
       "        4.5,  3.9,  4. ,  5.8,  8.3,  4.4,  5.8,  4.9,  6.7,  8.6,  5.2,\n",
       "        3.9,  4.9,  4. ,  7.8,  3.9,  4.4,  4.5,  3.9,  4.5,  5.4,  4.5,\n",
       "        4.8,  5.5,  4.3,  4.4,  3.9,  3.9,  5. ,  4.8,  4.9,  4. ,  4.3,\n",
       "        3.9,  4.9,  5.9,  5.5,  5.5,  7.3,  4.5,  7.2,  5. ,  4.4,  4.4,\n",
       "        5.4,  4.5,  4.9,  4.9,  3.9,  4.5,  4.7,  3.9,  4.5,  4.8,  3.9,\n",
       "        5.3,  4.5,  4.8,  5.3,  5.7,  5.8,  4.5,  4.4,  4.4,  4. ,  7.4,\n",
       "        4.9,  5. ,  4.5,  4.8,  4.4,  4.5,  5.4,  4.5,  7. ,  4.8,  5.3,\n",
       "        3.9,  5.5,  4.9,  4. ,  4.4,  4.5,  4.9,  7.7,  4.4,  4.3,  5. ,\n",
       "        4. ,  4.5,  5.8,  6.4,  7. ,  4.8,  5.5,  5.4,  6.1,  4. ,  5.5,\n",
       "        5.5,  5. ,  4.8,  4. ,  4.4,  4.5,  4.5,  4.4,  4.5,  4.4,  5.3,\n",
       "        5.7,  4.4,  4.9,  4.8,  4.4,  5. ,  4.9,  4. ,  4.2, 14. ,  4. ,\n",
       "        4.5,  4.4,  4.5,  6. ,  4.5,  5.2,  5. ,  4.8,  4.4,  4.4,  4. ,\n",
       "        4. ,  5. ,  4.5,  4.4,  4.5,  4.9,  3.9,  5. ,  5. ,  5.4,  5.3,\n",
       "        7.9,  7.7,  4.4,  4. ,  4.7,  4.5,  4.4,  3.9,  4. ,  6. ,  4.8,\n",
       "        3.9,  4.4,  4.5,  5.4,  6. ,  5.2,  5. ,  4.5,  5.4,  4.5,  4.8,\n",
       "        5. ,  4. ,  4.4,  4. ,  4.8,  4.4, 12.5,  4.2,  4.4,  5.3,  6.2,\n",
       "        4.8,  3.9,  4.4,  4.8,  5.4,  4.4,  5.2,  5. ,  4.9,  4.8,  4.3,\n",
       "        5.5,  4.5,  4.4,  4.4,  4.4,  4.5,  4. ,  5. ,  4.8,  7.9,  4.8,\n",
       "        7.3,  5.5,  4.5,  4.4,  4. ,  4.9,  4.9,  4.8,  5.9,  4.5,  4.5,\n",
       "        6.7,  4.9,  4.4,  4. ,  4.3,  4.4,  4. ,  4. ,  4.9,  4.9,  4. ,\n",
       "        8.1,  4.4,  4.5,  4.8,  4.4,  4.5,  4. ,  4.5,  6.3,  4.5,  4. ,\n",
       "        4. ,  4. ,  4. ,  7.4,  4.3,  4. ,  5.3,  4.5,  4.5,  4.5,  4.4,\n",
       "        4.9,  5. ,  4.4,  4.7,  4.9,  4.5,  4.5,  5. ,  4. ,  4. ,  4.9,\n",
       "        4.5,  4.4,  4. ,  4.9,  4.5,  4. ,  5.3,  4.5,  4.9,  4.5,  5.8,\n",
       "        4.4,  4.9,  4.5,  5.5,  5.3,  4.5,  4.4,  4. ,  4.8,  4. ,  3.9,\n",
       "        5.4,  4. ,  4.9,  5. ,  4.4,  5.3,  4. ,  4. ,  4.5,  4. ,  4.8,\n",
       "        5. ,  4.7,  4. ,  5. ,  5.8,  3.9,  5. ,  5.3,  4.9,  4.4,  5. ,\n",
       "        5.1,  7.1,  4.6,  4.7,  6.5,  4.8,  4.5,  7.1,  4.8,  6.5,  4. ,\n",
       "        4. ,  4.8,  4.9,  4. ,  4.4,  5. , 10.2,  4. ,  5.3,  4. ,  4.7,\n",
       "        4.4,  7. ,  4. ,  4.4,  4.5,  4.5,  4. ,  4.5,  4.5,  5.3,  4. ,\n",
       "        4.9,  6.5,  5.5,  4.4,  4.6,  5. ,  4.5,  5. ,  4.4,  4.5,  4.9,\n",
       "        4.7,  4.5,  3.9,  4.5,  4.4,  4. ,  4. ,  5. ,  4. ,  4.7,  6. ,\n",
       "        7.5,  5.5,  4.3,  4.7,  4. ,  4.5,  4.9,  4.5,  4. ,  4.5,  5.2,\n",
       "        4. ,  5. ,  4.5,  4. ,  4.5,  4. ,  4.4,  4.8,  4.4,  4.5,  4.2,\n",
       "        5.2,  5. ,  5.2,  4.8,  4.5,  4.4,  4. ,  4.5,  8.7,  5.4,  3.9,\n",
       "        4.9,  4.5,  3.9,  4. ,  3.9,  8.5,  4.4,  4.5,  4. ,  6.8,  4.9,\n",
       "        4.9,  5. ,  5.5,  5.5,  4.4,  4. ,  4.3,  4. ,  4.4,  4.3,  4.1,\n",
       "        4. ,  4.5,  5.1,  4.5,  4.5,  4.4,  5.3,  4.3,  4.9,  4.5,  5.8,\n",
       "        5.8,  4. ,  4.6,  6.4,  5.5,  4.9,  4.5,  4. ,  4.4, 12.8,  6.5,\n",
       "        4.7,  5.8,  4.5,  6.7,  4.5,  4.5,  6.3,  4.4,  4.3,  5.1,  4.5,\n",
       "        4.5,  4.4,  4.8,  4.4,  4. ,  4.5,  4.9,  4.3,  5.5,  6.9,  4.9,\n",
       "        5. ,  5.5,  4.5,  5.3,  5.9,  4.5,  4. ,  4.5,  5.5,  4.5,  4.9,\n",
       "        5.4,  4.8,  4.6,  4. ,  8.3,  4.5,  4.4,  4.4,  4.5,  5. ,  4.4,\n",
       "        4. ,  4.7,  4.8,  4.6,  6.3,  4.5,  3.9,  5.8,  5.2,  4.8,  5. ,\n",
       "        7.6,  5.2,  5.8,  6.5,  5.2,  4. ,  7. ,  5. ,  7.2,  4.5,  5.3,\n",
       "        4. ,  5.3,  4.9,  4. ,  4.9,  4.9,  3.9,  6.7,  4.5,  4.4,  4.3,\n",
       "        7.5,  4.4,  4.6,  4. ,  5.4,  5.6,  4.4,  6.8,  4.9,  4.5,  4.9,\n",
       "        5. ,  4.9,  4.4,  4.4,  5. ,  4.5,  4.4,  4.5,  4.9,  5.5,  4. ,\n",
       "        4.5,  4.5,  4.5,  4.9,  4.8,  5.3,  4.5,  4.9,  5.7,  4.4,  3.9,\n",
       "        4.5,  4.8,  4.9,  4.4,  4.9,  4. ,  4.5,  5. ,  3.9,  4.4,  4.3,\n",
       "        4.5,  4.4,  5. ,  4.5,  5. ,  6.3,  9.5,  4.8,  3.9,  4.5,  4.4,\n",
       "        4. ,  4.7,  4.9,  6.5,  4.5,  4.4,  4. ,  3.9,  4. ,  4.8,  5. ,\n",
       "        4.3,  4.5,  4.5,  4.8,  3.9,  4.4,  4.5,  4.5,  4.5,  4.4,  4.9,\n",
       "        5. ,  4. ,  4. ,  4.3,  3.9,  4.4,  4.9,  4.3,  4.4,  7.9,  4.3,\n",
       "        5. ,  4.5,  4.3,  4.4,  4.5,  4.2,  4.4,  4.5,  4.4,  4. ,  5. ,\n",
       "        6. ,  4.3,  5.4,  4.6,  5.4,  4. ,  4.5,  4.4,  5. ,  4.9,  4.3,\n",
       "        5.2,  5.3,  4.5,  5. ,  5.5,  4.5,  4.4,  4.4,  5.9,  5.7,  4.9,\n",
       "        5. ,  3.9,  5.4,  4. ,  5. ])"
      ]
     },
     "execution_count": 256,
     "metadata": {},
     "output_type": "execute_result"
    }
   ],
   "source": [
    "pool['value'].values"
   ]
  },
  {
   "cell_type": "code",
   "execution_count": null,
   "id": "c41e91ea-69cb-4acb-8ac4-3e4056538d47",
   "metadata": {},
   "outputs": [],
   "source": []
  }
 ],
 "metadata": {
  "kernelspec": {
   "display_name": "Python (fpl-ai)",
   "language": "python",
   "name": "fpl-ai"
  },
  "language_info": {
   "codemirror_mode": {
    "name": "ipython",
    "version": 3
   },
   "file_extension": ".py",
   "mimetype": "text/x-python",
   "name": "python",
   "nbconvert_exporter": "python",
   "pygments_lexer": "ipython3",
   "version": "3.12.7"
  }
 },
 "nbformat": 4,
 "nbformat_minor": 5
}
